{
 "cells": [
  {
   "cell_type": "markdown",
   "metadata": {},
   "source": [
    "# Machine Learning Online Class - Exercise 2: Logistic Regression "
   ]
  },
  {
   "cell_type": "markdown",
   "metadata": {},
   "source": [
    "## ex2 "
   ]
  },
  {
   "cell_type": "code",
   "execution_count": 1,
   "metadata": {},
   "outputs": [],
   "source": [
    "import numpy as np\n",
    "import pandas as pd\n",
    "import matplotlib.pyplot as plt\n",
    "import scipy.optimize as op"
   ]
  },
  {
   "cell_type": "code",
   "execution_count": 2,
   "metadata": {},
   "outputs": [
    {
     "name": "stdout",
     "output_type": "stream",
     "text": [
      "Training samples :\n",
      " [[34.62365962 78.02469282]\n",
      " [30.28671077 43.89499752]\n",
      " [35.84740877 72.90219803]\n",
      " [60.18259939 86.3085521 ]\n",
      " [79.03273605 75.34437644]\n",
      " [45.08327748 56.31637178]\n",
      " [61.10666454 96.51142588]\n",
      " [75.02474557 46.55401354]\n",
      " [76.0987867  87.42056972]\n",
      " [84.43281996 43.53339331]]\n",
      "\n",
      "Training labels :\n",
      " [[0]\n",
      " [0]\n",
      " [0]\n",
      " [1]\n",
      " [1]\n",
      " [0]\n",
      " [1]\n",
      " [1]\n",
      " [1]\n",
      " [1]]\n",
      "\n"
     ]
    }
   ],
   "source": [
    "#  Load Data\n",
    "#  The first two columns contains the exam scores and the third column\n",
    "#  contains the label.\n",
    "\n",
    "data = pd.read_csv('ex2data1.txt', names=['exam1', 'exam2', 'y'])\n",
    "X = data.values[:, :2]\n",
    "y = data.y.values.reshape(len(X),1)\n",
    "\n",
    "print(f'Training samples :\\n {X[:10, :]}\\n')\n",
    "print(f'Training labels :\\n {y[:10, :]}\\n')\n",
    "\n"
   ]
  },
  {
   "cell_type": "markdown",
   "metadata": {},
   "source": [
    "### Plotting "
   ]
  },
  {
   "cell_type": "code",
   "execution_count": 3,
   "metadata": {},
   "outputs": [
    {
     "data": {
      "image/png": "[encoded data removed]",
      "text/plain": [
       "<Figure size 432x288 with 1 Axes>"
      ]
     },
     "metadata": {},
     "output_type": "display_data"
    }
   ],
   "source": [
    "def plotData(X, y, xlegend, ylegend, xlabel, ylabel):\n",
    "    pos = np.argwhere(y==1)[:,0] # positive examples\n",
    "    neg = np.argwhere(y==0)[:,0] # negative examples\n",
    "    \n",
    "    plt.scatter(X[pos,0], X[pos,1],c='w', edgecolors='red', marker='o', label=xlegend)\n",
    "    plt.scatter(X[neg,0], X[neg,1], edgecolors='blue', marker='o', label=ylegend)\n",
    "    plt.xlabel(xlabel)\n",
    "    plt.ylabel(ylabel)\n",
    "    plt.legend()\n",
    "    \n",
    "    plt.show()\n",
    "\n",
    "plotData(X, y, 'Admitted', 'Not Admitted', 'Exam 1 score', 'Exam 2 score')"
   ]
  },
  {
   "cell_type": "markdown",
   "metadata": {},
   "source": [
    "### Optimizing using TNC"
   ]
  },
  {
   "cell_type": "code",
   "execution_count": 4,
   "metadata": {},
   "outputs": [],
   "source": [
    "def costFunction(theta, X, y):\n",
    "    # compute costfunction and gradient for logistic regression\n",
    "    m = len(X)\n",
    "    \n",
    "    J = 0\n",
    "    grad = np.zeros(shape=theta.shape)\n",
    "    \n",
    "    h = 1/(1+np.exp(-(X.dot(theta))))\n",
    "    \n",
    "    J = (1/m) * (-y.T.dot(np.log(h)) - (1 -y).T.dot(np.log(1-h)))\n",
    "    \n",
    "    grad = (1/m) * (X.T.dot(h - y))\n",
    "    \n",
    "    return (J,grad)\n",
    "    "
   ]
  },
  {
   "cell_type": "code",
   "execution_count": 5,
   "metadata": {},
   "outputs": [
    {
     "name": "stdout",
     "output_type": "stream",
     "text": [
      "augmented X : \n",
      "[[ 1.         34.62365962 78.02469282]\n",
      " [ 1.         30.28671077 43.89499752]\n",
      " [ 1.         35.84740877 72.90219803]\n",
      " [ 1.         60.18259939 86.3085521 ]\n",
      " [ 1.         79.03273605 75.34437644]\n",
      " [ 1.         45.08327748 56.31637178]\n",
      " [ 1.         61.10666454 96.51142588]\n",
      " [ 1.         75.02474557 46.55401354]\n",
      " [ 1.         76.0987867  87.42056972]\n",
      " [ 1.         84.43281996 43.53339331]]\n",
      "\n",
      "Cost at initial theta (zeros): \n",
      "[[0.69314718]]\n",
      "Expected cost (approx): 0.693\n",
      "\n",
      "Gradient at initial theta (zeros): \n",
      "\n",
      "[[ -0.1       ]\n",
      " [-12.00921659]\n",
      " [-11.26284221]]\n",
      "Expected gradients (approx):\n",
      " -0.1000\n",
      " -12.0092\n",
      " -11.2628\n",
      "\n"
     ]
    }
   ],
   "source": [
    "initial_theta = np.zeros((len(X[0])+1,1))\n",
    "\n",
    "X_aug = np.append(np.ones((len(X),1)), X, axis=1)\n",
    "print(f'augmented X : \\n{X_aug[:10, :]}\\n')\n",
    "\n",
    "(cost, grad) = costFunction(initial_theta, X_aug, y)\n",
    "\n",
    "print(f'Cost at initial theta (zeros): \\n{cost}');\n",
    "print('Expected cost (approx): 0.693\\n');\n",
    "print('Gradient at initial theta (zeros): \\n');\n",
    "print(f'{grad}');\n",
    "print('Expected gradients (approx):\\n -0.1000\\n -12.0092\\n -11.2628\\n');"
   ]
  },
  {
   "cell_type": "code",
   "execution_count": 6,
   "metadata": {},
   "outputs": [
    {
     "name": "stdout",
     "output_type": "stream",
     "text": [
      "Cost at theta found by TNC: [[0.2034977]]\n",
      "Expected cost (approx): 0.203\n",
      "\n",
      "theta: \n",
      "\n",
      "[-25.16131869   0.20623159   0.20147149] \n",
      "\n",
      "Expected theta (approx):\n",
      "\n",
      " -25.161\n",
      " 0.206\n",
      " 0.201\n",
      "\n"
     ]
    }
   ],
   "source": [
    "initial_theta = np.zeros((len(X[0])+1))\n",
    "\n",
    "def sigmoid(X, theta) : return 1/(1+np.exp(-(X.dot(theta.reshape(len(X[0]),1)))))\n",
    "    \n",
    "def cost(theta, X, y): \n",
    "    m = len(X)\n",
    "    h = sigmoid(X, theta)\n",
    "    return (1/m) * (-y.T.dot(np.log(h)) - (1 -y).T.dot(np.log(1-h)))\n",
    "    \n",
    "def gradientDescent(theta, X, y):\n",
    "    m = len(X)\n",
    "    h = sigmoid(X, theta)\n",
    "    grad_ret = (1/m) * (X.T.dot(h - y))\n",
    "    return grad_ret.flatten()\n",
    "\n",
    "\n",
    "optimizer = op.minimize(fun=cost, x0=initial_theta, args=(X_aug, y), method='TNC', jac=gradientDescent)\n",
    "J = optimizer.fun\n",
    "theta = optimizer.x\n",
    "\n",
    "print(f'Cost at theta found by TNC: {optimizer.fun}');\n",
    "print('Expected cost (approx): 0.203\\n');\n",
    "print('theta: \\n');\n",
    "print(f'{optimizer.x} \\n');\n",
    "print('Expected theta (approx):\\n');\n",
    "print(' -25.161\\n 0.206\\n 0.201\\n');"
   ]
  },
  {
   "cell_type": "code",
   "execution_count": 7,
   "metadata": {},
   "outputs": [
    {
     "name": "stdout",
     "output_type": "stream",
     "text": [
      "For a student with scores 45 and 85, we predict an admission probability of [[0.77629062]]\n",
      "\n",
      "Expected value: 0.775 +/- 0.002\n",
      "\n",
      "\n"
     ]
    }
   ],
   "source": [
    "prob = sigmoid(np.array([[1, 45, 85]]),theta)\n",
    "print(f'For a student with scores 45 and 85, we predict an admission probability of {prob}\\n')\n",
    "print('Expected value: 0.775 +/- 0.002\\n\\n')"
   ]
  },
  {
   "cell_type": "code",
   "execution_count": 8,
   "metadata": {},
   "outputs": [
    {
     "name": "stdout",
     "output_type": "stream",
     "text": [
      "Train Accuracy: 89.0\n",
      "Expected accuracy (approx): 89.0\n",
      "\n",
      "\n",
      "\n"
     ]
    }
   ],
   "source": [
    "def predict(theta, X):\n",
    "    threshold = 0.5\n",
    "    \n",
    "    sig = sigmoid(X, theta)\n",
    "    p = np.array([1 if i >= 0.5 else 0 for i in sig ])\n",
    "    return p\n",
    "p = predict(theta, X_aug)\n",
    "\n",
    "print(f'Train Accuracy: {np.mean(np.array([1 if i==j else 0 for i,j in zip(p,y)])) * 100}')\n",
    "print('Expected accuracy (approx): 89.0\\n')\n",
    "print('\\n')"
   ]
  },
  {
   "cell_type": "markdown",
   "metadata": {},
   "source": [
    "## ex2_reg\n",
    "Logistic Regression with regularization"
   ]
  },
  {
   "cell_type": "code",
   "execution_count": 9,
   "metadata": {},
   "outputs": [
    {
     "name": "stdout",
     "output_type": "stream",
     "text": [
      "Training samples :\n",
      " [[ 0.051267  0.69956 ]\n",
      " [-0.092742  0.68494 ]\n",
      " [-0.21371   0.69225 ]\n",
      " [-0.375     0.50219 ]\n",
      " [-0.51325   0.46564 ]\n",
      " [-0.52477   0.2098  ]\n",
      " [-0.39804   0.034357]\n",
      " [-0.30588  -0.19225 ]\n",
      " [ 0.016705 -0.40424 ]\n",
      " [ 0.13191  -0.51389 ]]\n",
      "\n",
      "Training labels :\n",
      " [[1]\n",
      " [1]\n",
      " [1]\n",
      " [1]\n",
      " [1]\n",
      " [1]\n",
      " [1]\n",
      " [1]\n",
      " [1]\n",
      " [1]]\n",
      "\n"
     ]
    }
   ],
   "source": [
    "#  Load Data\n",
    "#  The first two columns contains the exam scores and the third column\n",
    "#  contains the label.\n",
    "\n",
    "data = pd.read_csv('ex2data2.txt', names=['T1', 'T2', 'y'])\n",
    "X = data.values[:, :2]\n",
    "y = data.y.values.reshape(len(X),1)\n",
    "\n",
    "print(f'Training samples :\\n {X[:10, :]}\\n')\n",
    "print(f'Training labels :\\n {y[:10, :]}\\n')\n"
   ]
  },
  {
   "cell_type": "code",
   "execution_count": 10,
   "metadata": {},
   "outputs": [
    {
     "data": {
      "image/png": "[encoded data removed]",
      "text/plain": [
       "<Figure size 432x288 with 1 Axes>"
      ]
     },
     "metadata": {},
     "output_type": "display_data"
    }
   ],
   "source": [
    "plotData(X,y, 'y = 1', 'y = 2', 'Microchip Test 1', 'Microship Test 2')"
   ]
  },
  {
   "cell_type": "markdown",
   "metadata": {},
   "source": [
    "### Regularized Logistic Regression "
   ]
  },
  {
   "cell_type": "code",
   "execution_count": 11,
   "metadata": {},
   "outputs": [
    {
     "data": {
      "text/plain": [
       "(118, 28)"
      ]
     },
     "execution_count": 11,
     "metadata": {},
     "output_type": "execute_result"
    }
   ],
   "source": [
    "def featureMap(x1, x2, degree):\n",
    "    # Feature mapping function to polynomial features\n",
    "    out = np.ones((len(x1),1))\n",
    "    for i in range(1,degree+1):\n",
    "        for j in range(0,i+1):\n",
    "            add_this = (x1 ** (i - j)) * (x2 ** j)\n",
    "            out = np.append(out, add_this.reshape(len(out),1), axis=1)\n",
    "    return out\n",
    "\n",
    "X = featureMap(X[:,0], X[:,1], 6)\n",
    "X.shape"
   ]
  },
  {
   "cell_type": "code",
   "execution_count": 12,
   "metadata": {},
   "outputs": [],
   "source": [
    "def costFunctionReg(theta, X, y, lbda):\n",
    "    m = len(X)\n",
    "    grad = np.zeros((len(X[0]),1))\n",
    "    \n",
    "    (J, temp) = costFunction(theta, X, y)\n",
    "    J += lbda * (theta[1:,:].T.dot(theta[1:,:])) /(lbda * m)\n",
    "    \n",
    "    h = sigmoid(X, theta)\n",
    "    grad[0,:] = (1/m) * (X[:,0].T.dot(h - y))\n",
    "    grad[1:,:] = (1/m) * (X[:,1:].T.dot(h - y)) + (lbda/m) * theta[1:,:]\n",
    "    \n",
    "    return J, grad"
   ]
  },
  {
   "cell_type": "code",
   "execution_count": 13,
   "metadata": {},
   "outputs": [
    {
     "name": "stdout",
     "output_type": "stream",
     "text": [
      "Cost at initial theta (zeros): [[0.69314718]]\n",
      "\n",
      "Expected cost (approx): 0.693\n",
      "\n",
      "Gradient at initial theta (zeros) - first five values only:\n",
      "\n",
      "[[8.47457627e-03]\n",
      " [1.87880932e-02]\n",
      " [7.77711864e-05]\n",
      " [5.03446395e-02]\n",
      " [1.15013308e-02]]\n",
      "\n",
      "Expected gradients (approx) - first five values only:\n",
      "\n",
      " 0.0085\n",
      " 0.0188\n",
      " 0.0001\n",
      " 0.0503\n",
      " 0.0115\n",
      "\n"
     ]
    }
   ],
   "source": [
    "initial_theta = np.zeros((len(X[0]),1))\n",
    "lbda = 1 # lambda\n",
    "\n",
    "(cost, grad) = costFunctionReg(initial_theta, X, y, lbda)\n",
    "\n",
    "print(f'Cost at initial theta (zeros): {cost}\\n')\n",
    "print('Expected cost (approx): 0.693\\n')\n",
    "print('Gradient at initial theta (zeros) - first five values only:\\n')\n",
    "print(f'{grad[:5,:]}\\n')\n",
    "print('Expected gradients (approx) - first five values only:\\n')\n",
    "print(' 0.0085\\n 0.0188\\n 0.0001\\n 0.0503\\n 0.0115\\n')"
   ]
  },
  {
   "cell_type": "code",
   "execution_count": 14,
   "metadata": {},
   "outputs": [
    {
     "name": "stdout",
     "output_type": "stream",
     "text": [
      "Cost at initial theta (zeros): [[2.24925509]]\n",
      "\n",
      "Expected cost (approx): 3.16\n",
      "\n",
      "Gradient at test theta - first five values only:\n",
      "\n",
      "[[0.34604507]\n",
      " [0.16135192]\n",
      " [0.19479576]\n",
      " [0.22686278]\n",
      " [0.09218568]]\n",
      "\n",
      "Expected gradients (approx) - first five values only:\n",
      "\n",
      " 0.3460\n",
      " 0.1614\n",
      " 0.1948\n",
      " 0.2269\n",
      " 0.0922\n",
      "\n"
     ]
    }
   ],
   "source": [
    "# Compute and display cost and gradient with all-ones theta and lambda = 10\n",
    "\n",
    "test_theta = np.ones((len(X[0]),1))\n",
    "lbda = 10 # lambda\n",
    "\n",
    "(cost, grad) = costFunctionReg(test_theta, X, y, lbda)\n",
    "\n",
    "print(f'Cost at initial theta (zeros): {cost}\\n')\n",
    "print('Expected cost (approx): 3.16\\n')\n",
    "print('Gradient at test theta - first five values only:\\n')\n",
    "print(f'{grad[:5,:]}\\n')\n",
    "print('Expected gradients (approx) - first five values only:\\n')\n",
    "print(' 0.3460\\n 0.1614\\n 0.1948\\n 0.2269\\n 0.0922\\n')"
   ]
  },
  {
   "cell_type": "code",
   "execution_count": 15,
   "metadata": {},
   "outputs": [
    {
     "name": "stdout",
     "output_type": "stream",
     "text": [
      "Train Accuracy: 83.05084745762711\n",
      "Expected accuracy (approx): 83.1\n",
      "\n",
      "\n",
      "\n"
     ]
    }
   ],
   "source": [
    "initial_theta = np.zeros((len(X[0])))\n",
    "lbda = 2\n",
    "\n",
    "def sigmoid(X, theta) : return 1/(1+np.exp(-(X.dot(theta.reshape(len(X[0]),1)))))\n",
    "    \n",
    "def cost(theta, X, y, lbda): \n",
    "    m = len(X)\n",
    "    h = sigmoid(X, theta)\n",
    "    J = (1/m) * (-y.T.dot(np.log(h)) - (1 -y).T.dot(np.log(1-h)))\n",
    "    theta = theta.reshape(len(X[0]),1)\n",
    "    J += lbda * (theta[1:,:].T.dot(theta[1:,:])) /(2 * m)\n",
    "    return J\n",
    "    \n",
    "def gradientDescent(theta, X, y, lbda):\n",
    "    m = len(X)\n",
    "    h = sigmoid(X, theta)\n",
    "    theta = theta.reshape(len(X[0]),1)\n",
    "    grad_ret = (1/m) * (X.T.dot(h - y))\n",
    "    grad_ret[1:,:] += (lbda/m) * theta[1:,:]\n",
    "    return grad_ret.flatten()\n",
    "  \n",
    "\n",
    "optimizer = op.minimize(fun=cost, x0=initial_theta, args=(X, y, lbda), method='L-BFGS-B', jac=gradientDescent)\n",
    "J = optimizer.fun\n",
    "theta = optimizer.x\n",
    "\n",
    "def predict(theta, X):\n",
    "    threshold = 0.5\n",
    "    \n",
    "    sig = sigmoid(X, theta)\n",
    "    p = np.array([1 if i >= 0.5 else 0 for i in sig ])\n",
    "    return p\n",
    "p = predict(theta, X)\n",
    "\n",
    "print(f'Train Accuracy: {np.mean(np.array([1 if i==j else 0 for i,j in zip(p,y)])) * 100}')\n",
    "print('Expected accuracy (approx): 83.1\\n')\n",
    "print('\\n')\n"
   ]
  },
  {
   "cell_type": "code",
   "execution_count": null,
   "metadata": {},
   "outputs": [],
   "source": []
  },
  {
   "cell_type": "code",
   "execution_count": null,
   "metadata": {},
   "outputs": [],
   "source": []
  },
  {
   "cell_type": "code",
   "execution_count": null,
   "metadata": {},
   "outputs": [],
   "source": []
  }
 ],
 "metadata": {
  "kernelspec": {
   "display_name": "Python 3",
   "language": "python",
   "name": "python3"
  },
  "language_info": {
   "codemirror_mode": {
    "name": "ipython",
    "version": 3
   },
   "file_extension": ".py",
   "mimetype": "text/x-python",
   "name": "python",
   "nbconvert_exporter": "python",
   "pygments_lexer": "ipython3",
   "version": "3.6.4"
  }
 },
 "nbformat": 4,
 "nbformat_minor": 2
}
