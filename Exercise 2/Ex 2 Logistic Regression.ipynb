{
 "cells": [
  {
   "cell_type": "markdown",
   "metadata": {},
   "source": [
    "# Machine Learning Online Class - Exercise 2: Logistic Regression "
   ]
  },
  {
   "cell_type": "markdown",
   "metadata": {},
   "source": [
    "## ex2 "
   ]
  },
  {
   "cell_type": "code",
   "execution_count": 1,
   "metadata": {},
   "outputs": [],
   "source": [
    "import numpy as np\n",
    "import pandas as pd\n",
    "import matplotlib.pyplot as plt\n",
    "import scipy.optimize as op"
   ]
  },
  {
   "cell_type": "code",
   "execution_count": 2,
   "metadata": {},
   "outputs": [
    {
     "name": "stdout",
     "output_type": "stream",
     "text": [
      "Training samples :\n",
      " [[34.62365962 78.02469282]\n",
      " [30.28671077 43.89499752]\n",
      " [35.84740877 72.90219803]\n",
      " [60.18259939 86.3085521 ]\n",
      " [79.03273605 75.34437644]\n",
      " [45.08327748 56.31637178]\n",
      " [61.10666454 96.51142588]\n",
      " [75.02474557 46.55401354]\n",
      " [76.0987867  87.42056972]\n",
      " [84.43281996 43.53339331]]\n",
      "\n",
      "Training labels :\n",
      " [[0]\n",
      " [0]\n",
      " [0]\n",
      " [1]\n",
      " [1]\n",
      " [0]\n",
      " [1]\n",
      " [1]\n",
      " [1]\n",
      " [1]]\n",
      "\n"
     ]
    }
   ],
   "source": [
    "#  Load Data\n",
    "#  The first two columns contains the exam scores and the third column\n",
    "#  contains the label.\n",
    "\n",
    "data = pd.read_csv('ex2data1.txt', names=['exam1', 'exam2', 'y'])\n",
    "X = data.values[:, :2]\n",
    "y = data.y.values.reshape(len(X),1)\n",
    "\n",
    "print(f'Training samples :\\n {X[:10, :]}\\n')\n",
    "print(f'Training labels :\\n {y[:10, :]}\\n')\n",
    "\n"
   ]
  },
  {
   "cell_type": "markdown",
   "metadata": {},
   "source": [
    "### Plotting "
   ]
  },
  {
   "cell_type": "code",
   "execution_count": 3,
   "metadata": {},
   "outputs": [
    {
     "data": {
      "image/png": "[encoded data removed]",
      "text/plain": [
       "<Figure size 432x288 with 1 Axes>"
      ]
     },
     "metadata": {},
     "output_type": "display_data"
    }
   ],
   "source": [
    "def plotData(X, y):\n",
    "    pos = np.argwhere(y==1)[:,0] # positive examples\n",
    "    neg = np.argwhere(y==0)[:,0] # negative examples\n",
    "    \n",
    "    plt.scatter(X[pos,0], X[pos,1],c='w', edgecolors='red', marker='o', label='Admitted')\n",
    "    plt.scatter(X[neg,0], X[neg,1], edgecolors='blue', marker='o', label='Not Admitted')\n",
    "    plt.xlabel('Exam 1 Score')\n",
    "    plt.ylabel('Exam 2 Score')\n",
    "    plt.legend()\n",
    "    \n",
    "    plt.show()\n",
    "\n",
    "plotData(X, y)"
   ]
  },
  {
   "cell_type": "markdown",
   "metadata": {},
   "source": [
    "### Optimizing using TNC"
   ]
  },
  {
   "cell_type": "code",
   "execution_count": 4,
   "metadata": {},
   "outputs": [],
   "source": [
    "def costFunction(theta, X, y):\n",
    "    # compute costfunction and gradient for logistic regression\n",
    "    m = len(X)\n",
    "    \n",
    "    J = 0\n",
    "    grad = np.zeros(shape=theta.shape)\n",
    "    \n",
    "    h = 1/(1+np.exp(-(X.dot(theta))))\n",
    "    \n",
    "    J = (1/m) * (-y.T.dot(np.log(h)) - (1 -y).T.dot(np.log(1-h)))\n",
    "    \n",
    "    grad = (1/m) * (X.T.dot(h - y))\n",
    "    \n",
    "    return (J,grad)\n",
    "    "
   ]
  },
  {
   "cell_type": "code",
   "execution_count": 5,
   "metadata": {},
   "outputs": [
    {
     "name": "stdout",
     "output_type": "stream",
     "text": [
      "augmented X : \n",
      "[[ 1.         34.62365962 78.02469282]\n",
      " [ 1.         30.28671077 43.89499752]\n",
      " [ 1.         35.84740877 72.90219803]\n",
      " [ 1.         60.18259939 86.3085521 ]\n",
      " [ 1.         79.03273605 75.34437644]\n",
      " [ 1.         45.08327748 56.31637178]\n",
      " [ 1.         61.10666454 96.51142588]\n",
      " [ 1.         75.02474557 46.55401354]\n",
      " [ 1.         76.0987867  87.42056972]\n",
      " [ 1.         84.43281996 43.53339331]]\n",
      "\n",
      "Cost at initial theta (zeros): \n",
      "[[0.69314718]]\n",
      "Expected cost (approx): 0.693\n",
      "\n",
      "Gradient at initial theta (zeros): \n",
      "\n",
      "[[ -0.1       ]\n",
      " [-12.00921659]\n",
      " [-11.26284221]]\n",
      "Expected gradients (approx):\n",
      " -0.1000\n",
      " -12.0092\n",
      " -11.2628\n",
      "\n"
     ]
    }
   ],
   "source": [
    "initial_theta = np.zeros((len(X[0])+1,1))\n",
    "\n",
    "X_aug = np.append(np.ones((len(X),1)), X, axis=1)\n",
    "print(f'augmented X : \\n{X_aug[:10, :]}\\n')\n",
    "\n",
    "(cost, grad) = costFunction(initial_theta, X_aug, y)\n",
    "\n",
    "print(f'Cost at initial theta (zeros): \\n{cost}');\n",
    "print('Expected cost (approx): 0.693\\n');\n",
    "print('Gradient at initial theta (zeros): \\n');\n",
    "print(f'{grad}');\n",
    "print('Expected gradients (approx):\\n -0.1000\\n -12.0092\\n -11.2628\\n');"
   ]
  },
  {
   "cell_type": "code",
   "execution_count": 11,
   "metadata": {},
   "outputs": [
    {
     "name": "stdout",
     "output_type": "stream",
     "text": [
      "Cost at theta found by TNC: [[0.2034977]]\n",
      "Expected cost (approx): 0.203\n",
      "\n",
      "theta: \n",
      "\n",
      "[-25.16131869   0.20623159   0.20147149] \n",
      "\n",
      "Expected theta (approx):\n",
      "\n",
      " -25.161\n",
      " 0.206\n",
      " 0.201\n",
      "\n"
     ]
    }
   ],
   "source": [
    "initial_theta = np.zeros((len(X[0])+1))\n",
    "\n",
    "def sigmoid(X, theta) : return 1/(1+np.exp(-(X.dot(theta.reshape(len(X[0]),1)))))\n",
    "    \n",
    "def cost(theta, X, y): \n",
    "    m = len(X)\n",
    "    h = sigmoid(X, theta)\n",
    "    return (1/m) * (-y.T.dot(np.log(h)) - (1 -y).T.dot(np.log(1-h)))\n",
    "    \n",
    "def grad(theta, X, y):\n",
    "    m = len(X)\n",
    "    h = sigmoid(X, theta)\n",
    "    grad_ret = (1/m) * (X.T.dot(h - y))\n",
    "    return grad_ret.flatten()\n",
    "\n",
    "\n",
    "optimizer = op.minimize(fun=cost, x0=initial_theta, args=(X_aug, y), method='TNC', jac=grad)\n",
    "J = optimizer.fun\n",
    "theta = optimizer.x\n",
    "\n",
    "print(f'Cost at theta found by TNC: {optimizer.fun}');\n",
    "print('Expected cost (approx): 0.203\\n');\n",
    "print('theta: \\n');\n",
    "print(f'{optimizer.x} \\n');\n",
    "print('Expected theta (approx):\\n');\n",
    "print(' -25.161\\n 0.206\\n 0.201\\n');"
   ]
  },
  {
   "cell_type": "code",
   "execution_count": 28,
   "metadata": {},
   "outputs": [
    {
     "name": "stdout",
     "output_type": "stream",
     "text": [
      "float64\n"
     ]
    },
    {
     "data": {
      "image/png": "[encoded data removed]",
      "text/plain": [
       "<Figure size 432x288 with 1 Axes>"
      ]
     },
     "metadata": {},
     "output_type": "display_data"
    },
    {
     "ename": "TypeError",
     "evalue": "'numpy.float64' object cannot be interpreted as an integer",
     "output_type": "error",
     "traceback": [
      "\u001b[0;31m---------------------------------------------------------------------------\u001b[0m",
      "\u001b[0;31mTypeError\u001b[0m                                 Traceback (most recent call last)",
      "\u001b[0;32m<ipython-input-28-889554fce738>\u001b[0m in \u001b[0;36m<module>\u001b[0;34m()\u001b[0m\n\u001b[1;32m     11\u001b[0m     \u001b[0mplt\u001b[0m\u001b[0;34m.\u001b[0m\u001b[0mplot\u001b[0m\u001b[0;34m(\u001b[0m\u001b[0mplot_x\u001b[0m\u001b[0;34m,\u001b[0m \u001b[0mplot_y\u001b[0m\u001b[0;34m)\u001b[0m\u001b[0;34m\u001b[0m\u001b[0m\n\u001b[1;32m     12\u001b[0m \u001b[0;34m\u001b[0m\u001b[0m\n\u001b[0;32m---> 13\u001b[0;31m \u001b[0mplotDecisionBoundary\u001b[0m\u001b[0;34m(\u001b[0m\u001b[0mtheta\u001b[0m\u001b[0;34m,\u001b[0m \u001b[0mX\u001b[0m\u001b[0;34m,\u001b[0m \u001b[0my\u001b[0m\u001b[0;34m)\u001b[0m\u001b[0;34m\u001b[0m\u001b[0m\n\u001b[0m",
      "\u001b[0;32m<ipython-input-28-889554fce738>\u001b[0m in \u001b[0;36mplotDecisionBoundary\u001b[0;34m(theta, X, y)\u001b[0m\n\u001b[1;32m      3\u001b[0m     \u001b[0mplotData\u001b[0m\u001b[0;34m(\u001b[0m\u001b[0mX\u001b[0m\u001b[0;34m,\u001b[0m\u001b[0my\u001b[0m\u001b[0;34m)\u001b[0m\u001b[0;34m\u001b[0m\u001b[0m\n\u001b[1;32m      4\u001b[0m     \u001b[0mplot_x\u001b[0m \u001b[0;34m=\u001b[0m \u001b[0;34m[\u001b[0m\u001b[0mnp\u001b[0m\u001b[0;34m.\u001b[0m\u001b[0mmin\u001b[0m\u001b[0;34m(\u001b[0m\u001b[0mX_aug\u001b[0m\u001b[0;34m[\u001b[0m\u001b[0;34m:\u001b[0m\u001b[0;34m,\u001b[0m\u001b[0;36m1\u001b[0m\u001b[0;34m]\u001b[0m\u001b[0;34m)\u001b[0m \u001b[0;34m-\u001b[0m \u001b[0;36m2\u001b[0m\u001b[0;34m,\u001b[0m \u001b[0mnp\u001b[0m\u001b[0;34m.\u001b[0m\u001b[0mmax\u001b[0m\u001b[0;34m(\u001b[0m\u001b[0mX_aug\u001b[0m\u001b[0;34m[\u001b[0m\u001b[0;34m:\u001b[0m\u001b[0;34m,\u001b[0m\u001b[0;36m1\u001b[0m\u001b[0;34m]\u001b[0m\u001b[0;34m+\u001b[0m\u001b[0;36m2\u001b[0m\u001b[0;34m)\u001b[0m\u001b[0;34m]\u001b[0m\u001b[0;34m\u001b[0m\u001b[0m\n\u001b[0;32m----> 5\u001b[0;31m     \u001b[0mplot_y\u001b[0m \u001b[0;34m=\u001b[0m \u001b[0;34m(\u001b[0m\u001b[0;34m-\u001b[0m\u001b[0;36m1.\u001b[0m \u001b[0;34m/\u001b[0m\u001b[0;36m0.20147149\u001b[0m\u001b[0;34m)\u001b[0m \u001b[0;34m*\u001b[0m \u001b[0;34m(\u001b[0m\u001b[0mtheta\u001b[0m\u001b[0;34m[\u001b[0m\u001b[0;36m1\u001b[0m\u001b[0;34m]\u001b[0m \u001b[0;34m*\u001b[0m \u001b[0mplot_x\u001b[0m \u001b[0;34m+\u001b[0m \u001b[0mtheta\u001b[0m\u001b[0;34m[\u001b[0m\u001b[0;36m0\u001b[0m\u001b[0;34m]\u001b[0m\u001b[0;34m)\u001b[0m\u001b[0;34m\u001b[0m\u001b[0m\n\u001b[0m\u001b[1;32m      6\u001b[0m     \u001b[0mprint\u001b[0m\u001b[0;34m(\u001b[0m\u001b[0mtheta\u001b[0m\u001b[0;34m[\u001b[0m\u001b[0;36m2\u001b[0m\u001b[0;34m]\u001b[0m\u001b[0;34m)\u001b[0m\u001b[0;34m\u001b[0m\u001b[0m\n\u001b[1;32m      7\u001b[0m     \u001b[0mprint\u001b[0m\u001b[0;34m(\u001b[0m\u001b[0mplot_x\u001b[0m\u001b[0;34m)\u001b[0m\u001b[0;34m\u001b[0m\u001b[0m\n",
      "\u001b[0;31mTypeError\u001b[0m: 'numpy.float64' object cannot be interpreted as an integer"
     ]
    }
   ],
   "source": [
    "print(theta.dtype)\n",
    "w = clf.coef_[0]\n",
    "a = -w[0] / w[1]\n",
    "xx = np.linspace(-5, 5)\n",
    "yy = a * xx - (clf.intercept_[0]) / w[1]\n",
    "\n",
    "def plotDecisionBoundary(theta, X, y):\n",
    "    plotData(X,y)\n",
    "    plot_x = [np.min(X_aug[:,1]) - 2, np.max(X_aug[:,1]+2)]\n",
    "    plot_y = ((-theta[0]/the[1]) * plot_x) - ()\n",
    "    print(theta[2])\n",
    "    print(plot_x)\n",
    "    \n",
    "    print(plot_y)\n",
    "    \n",
    "    plt.plot(plot_x, plot_y)\n",
    "\n",
    "plotDecisionBoundary(theta, X, y)"
   ]
  },
  {
   "cell_type": "code",
   "execution_count": 33,
   "metadata": {},
   "outputs": [
    {
     "name": "stdout",
     "output_type": "stream",
     "text": [
      "For a student with scores 45 and 85, we predict an admission probability of [[0.77629062]]\n",
      "\n",
      "Expected value: 0.775 +/- 0.002\n",
      "\n",
      "\n"
     ]
    }
   ],
   "source": [
    "prob = sigmoid(np.array([[1, 45, 85]]),theta)\n",
    "print(f'For a student with scores 45 and 85, we predict an admission probability of {prob}\\n')\n",
    "print('Expected value: 0.775 +/- 0.002\\n\\n')"
   ]
  },
  {
   "cell_type": "code",
   "execution_count": 47,
   "metadata": {},
   "outputs": [
    {
     "name": "stdout",
     "output_type": "stream",
     "text": [
      "Train Accuracy: 89.0\n",
      "Expected accuracy (approx): 89.0\n",
      "\n",
      "\n",
      "\n"
     ]
    }
   ],
   "source": [
    "def predict(theta, X):\n",
    "    threshold = 0.5\n",
    "    \n",
    "    sig = sigmoid(X, theta)\n",
    "    p = np.array([1 if i >= 0.5 else 0 for i in sig ])\n",
    "    return p\n",
    "p = predict(theta, X_aug)\n",
    "\n",
    "print(f'Train Accuracy: {np.mean(np.array([1 if i==j else 0 for i,j in zip(p,y)])) * 100}')\n",
    "print('Expected accuracy (approx): 89.0\\n')\n",
    "print('\\n')"
   ]
  }
 ],
 "metadata": {
  "kernelspec": {
   "display_name": "Python 3",
   "language": "python",
   "name": "python3"
  },
  "language_info": {
   "codemirror_mode": {
    "name": "ipython",
    "version": 3
   },
   "file_extension": ".py",
   "mimetype": "text/x-python",
   "name": "python",
   "nbconvert_exporter": "python",
   "pygments_lexer": "ipython3",
   "version": "3.6.4"
  }
 },
 "nbformat": 4,
 "nbformat_minor": 2
}
