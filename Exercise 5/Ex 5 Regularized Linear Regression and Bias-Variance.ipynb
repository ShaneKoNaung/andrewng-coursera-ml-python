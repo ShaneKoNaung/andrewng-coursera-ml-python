{
 "cells": [
  {
   "cell_type": "markdown",
   "metadata": {},
   "source": [
    "## Loading and Visualizing Data"
   ]
  },
  {
   "cell_type": "code",
   "execution_count": 1,
   "metadata": {},
   "outputs": [],
   "source": [
    "import numpy as np\n",
    "import pandas as pd\n",
    "import matplotlib.pyplot as plt\n",
    "\n",
    "from scipy import optimize\n",
    "from scipy.io import loadmat"
   ]
  },
  {
   "cell_type": "code",
   "execution_count": 44,
   "metadata": {},
   "outputs": [
    {
     "name": "stdout",
     "output_type": "stream",
     "text": [
      "Training samples : (12, 1)\n",
      "Training labels : (12,)\n",
      "Training samples: \n",
      " [[-15.93675813]\n",
      " [-29.15297922]\n",
      " [ 36.18954863]\n",
      " [ 37.49218733]\n",
      " [-48.05882945]\n",
      " [ -8.94145794]\n",
      " [ 15.30779289]\n",
      " [-34.70626581]\n",
      " [  1.38915437]\n",
      " [-44.38375985]\n",
      " [  7.01350208]\n",
      " [ 22.76274892]]\n",
      "\n",
      "Training labels\n",
      "Test samples : (21, 1)\n",
      "Test labels : (21,)\n",
      "Validation samples : (21, 1)\n",
      "Validation labels : (21,)\n"
     ]
    }
   ],
   "source": [
    "data = loadmat('ex5data1.mat')\n",
    "\n",
    "X, y = data['X'], data['y'].ravel()\n",
    "Xtest, ytest = data['Xtest'], data['ytest'].ravel()\n",
    "Xval, yval = data['Xval'], data['yval'].ravel()\n",
    "\n",
    "m = y.size\n",
    "print(f'Training samples : {X.shape}')\n",
    "print(f'Training labels : {y.shape}')\n",
    "print(f'Training samples: \\n {X}\\n')\n",
    "print(f'Training labels')\n",
    "\n",
    "print(f'Test samples : {Xtest.shape}')\n",
    "print(f'Test labels : {ytest.shape}')\n",
    "\n",
    "print(f'Validation samples : {Xval.shape}')\n",
    "print(f'Validation labels : {yval.shape}')\n",
    "\n",
    "\n"
   ]
  },
  {
   "cell_type": "code",
   "execution_count": 3,
   "metadata": {},
   "outputs": [
    {
     "data": {
      "image/png": "[encoded data removed]",
      "text/plain": [
       "<Figure size 432x288 with 1 Axes>"
      ]
     },
     "metadata": {},
     "output_type": "display_data"
    }
   ],
   "source": [
    "plt.scatter(X.flatten(), y, c='white', edgecolors='red')\n",
    "plt.xlabel('Change in water level')\n",
    "plt.ylabel('Water flowing out of the dam')\n",
    "plt.show()"
   ]
  },
  {
   "cell_type": "markdown",
   "metadata": {},
   "source": [
    "## Regularized Linear Regression Cost and Gradient"
   ]
  },
  {
   "cell_type": "code",
   "execution_count": 15,
   "metadata": {},
   "outputs": [],
   "source": [
    "def linearRegCostFunction(X, y, theta, lmbda):\n",
    "    '''Compute cost and gradient for regularized linear regression with multiple variables'''\n",
    "    \n",
    "    m = y.size\n",
    "    \n",
    "    y = y.reshape(len(y), 1)\n",
    "    \n",
    "    grad = np.zeros(theta.shape)\n",
    "    theta = theta.reshape(len(theta),1)\n",
    "    J = 1/(2 *m) * np.sum((X.dot(theta) - y) ** 2) + lmbda/(2* m) * np.sum(theta[1:] ** 2)\n",
    "    grad[0] = (1/m) * np.sum(X.dot(theta) - y)\n",
    "    grad[1:] = (1/m) * np.sum((X.dot(theta) - y) * X[:, 1:]) + lmbda/m * theta[1:]\n",
    "    \n",
    "    grad = grad[:]\n",
    "    return J, grad.flatten()"
   ]
  },
  {
   "cell_type": "code",
   "execution_count": 16,
   "metadata": {},
   "outputs": [
    {
     "name": "stdout",
     "output_type": "stream",
     "text": [
      "Cost at theta = [1 ; 1]: 303.9931922202643\n",
      "(this value should be about 303.993192)\n",
      "\n",
      "Gradient at theta = [1 ; 1]:  (-15.303015674201186, 598.2507441727035) \n",
      "(this value should be about [-15.303016; 598.250744])\n",
      "\n"
     ]
    }
   ],
   "source": [
    "theta = np.array([1,1])\n",
    "X_aug = np.concatenate([np.ones((m,1)), X], axis=1)\n",
    "(J, grad) = linearRegCostFunction(X_aug, y, theta, 1);\n",
    "\n",
    "print(f'Cost at theta = [1 ; 1]: {J}\\n(this value should be about 303.993192)\\n');\n",
    "\n",
    "print(f'Gradient at theta = [1 ; 1]:  {grad[0], grad[1]} \\n(this value should be about [-15.303016; 598.250744])\\n')"
   ]
  },
  {
   "cell_type": "markdown",
   "metadata": {},
   "source": [
    "## Train Linear Regression"
   ]
  },
  {
   "cell_type": "code",
   "execution_count": 17,
   "metadata": {},
   "outputs": [],
   "source": [
    "def trainLinearReg(linearRegCostFunction, X, y, lmbda):\n",
    "    \n",
    "    # Initialize Theta\n",
    "    initial_theta = np.zeros(X.shape[1])\n",
    "\n",
    "    # Create \"short hand\" for the cost function to be minimized\n",
    "    costFunction = lambda t: linearRegCostFunction(X, y, t, lmbda)\n",
    "\n",
    "    # Now, costFunction is a function that takes in only one argument\n",
    "    options = {'maxiter': 200}\n",
    "\n",
    "    # Minimize using scipy\n",
    "    res = optimize.minimize(costFunction, initial_theta, jac=True, method='TNC', options=options)\n",
    "    return res.x, res.fun"
   ]
  },
  {
   "cell_type": "code",
   "execution_count": 26,
   "metadata": {},
   "outputs": [
    {
     "data": {
      "image/png": "[encoded data removed]",
      "text/plain": [
       "<Figure size 432x288 with 1 Axes>"
      ]
     },
     "metadata": {},
     "output_type": "display_data"
    }
   ],
   "source": [
    "lmbda = 0\n",
    "theta, j= trainLinearReg(linearRegCostFunction, X_aug, y, lmbda)\n",
    "\n",
    "plt.scatter(X.flatten(), y, c='white', edgecolors='red')\n",
    "plt.xlabel('Change in water level')\n",
    "plt.ylabel('Water flowing out of the dam')\n",
    "plt.plot(X, X_aug.dot(theta), 'b')\n",
    "plt.show()\n"
   ]
  },
  {
   "cell_type": "markdown",
   "metadata": {},
   "source": [
    "## Learning Curve for Linear Regression "
   ]
  },
  {
   "cell_type": "code",
   "execution_count": 58,
   "metadata": {},
   "outputs": [],
   "source": [
    "def learningCurve(X, y, Xval, yval, lmbda):\n",
    "    m = y.size\n",
    "    \n",
    "    train_error = np.zeros((m,1))\n",
    "    val_error = np.zeros((m,1))\n",
    "    for i in range(1, m):\n",
    "        theta, _ = trainLinearReg(linearRegCostFunction, X[:i,:], y[:i], lmbda)\n",
    "        J_train =  1/(2 *m) * np.sum((X[:i,:].dot(theta.reshape(len(theta),1)) - y[:i].reshape(len(y[:i]),1)) ** 2)\n",
    "        J_val = 1/(2 *m) * np.sum((Xval.dot(theta.reshape(len(theta),1)) - yval.reshape(len(yval),1)) ** 2)\n",
    "        train_error[i,0] = J_train\n",
    "        val_error[i,0] = J_val\n",
    "    return train_error, val_error"
   ]
  },
  {
   "cell_type": "code",
   "execution_count": 65,
   "metadata": {},
   "outputs": [
    {
     "data": {
      "image/png": "[encoded data removed]",
      "text/plain": [
       "<Figure size 432x288 with 1 Axes>"
      ]
     },
     "metadata": {},
     "output_type": "display_data"
    }
   ],
   "source": [
    "Xval_aug = np.concatenate([np.ones((len(Xval),1)), Xval], axis=1)\n",
    "train_error, val_error = learningCurve(X_aug, y, Xval_aug, yval, 0)\n",
    "\n",
    "plt.plot(range(1,m), train_error[1:], 'r', label='Training error')\n",
    "plt.plot(range(1,m), val_error[1:], 'b', label='Validation error')\n",
    "plt.xlabel('Number of Training examples')\n",
    "plt.ylabel('Error')\n",
    "plt.legend()\n",
    "plt.show()"
   ]
  },
  {
   "cell_type": "code",
   "execution_count": null,
   "metadata": {},
   "outputs": [],
   "source": []
  },
  {
   "cell_type": "code",
   "execution_count": null,
   "metadata": {},
   "outputs": [],
   "source": []
  },
  {
   "cell_type": "code",
   "execution_count": null,
   "metadata": {},
   "outputs": [],
   "source": []
  },
  {
   "cell_type": "code",
   "execution_count": null,
   "metadata": {},
   "outputs": [],
   "source": []
  },
  {
   "cell_type": "code",
   "execution_count": null,
   "metadata": {},
   "outputs": [],
   "source": []
  },
  {
   "cell_type": "code",
   "execution_count": null,
   "metadata": {},
   "outputs": [],
   "source": []
  },
  {
   "cell_type": "code",
   "execution_count": null,
   "metadata": {},
   "outputs": [],
   "source": []
  }
 ],
 "metadata": {
  "kernelspec": {
   "display_name": "Python 3",
   "language": "python",
   "name": "python3"
  },
  "language_info": {
   "codemirror_mode": {
    "name": "ipython",
    "version": 3
   },
   "file_extension": ".py",
   "mimetype": "text/x-python",
   "name": "python",
   "nbconvert_exporter": "python",
   "pygments_lexer": "ipython3",
   "version": "3.6.4"
  }
 },
 "nbformat": 4,
 "nbformat_minor": 2
}
