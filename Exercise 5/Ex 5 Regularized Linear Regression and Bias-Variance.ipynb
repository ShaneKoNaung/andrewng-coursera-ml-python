{
 "cells": [
  {
   "cell_type": "markdown",
   "metadata": {},
   "source": [
    "## Loading and Visualizing Data"
   ]
  },
  {
   "cell_type": "code",
   "execution_count": 2,
   "metadata": {},
   "outputs": [],
   "source": [
    "import numpy as np\n",
    "import pandas as pd\n",
    "import matplotlib.pyplot as plt\n",
    "\n",
    "from scipy import optimize\n",
    "from scipy.io import loadmat"
   ]
  },
  {
   "cell_type": "code",
   "execution_count": 9,
   "metadata": {},
   "outputs": [
    {
     "name": "stdout",
     "output_type": "stream",
     "text": [
      "Training samples : (12, 1)\n",
      "Training labels : (12,)\n",
      "Training samples: \n",
      " [[-15.93675813]\n",
      " [-29.15297922]\n",
      " [ 36.18954863]\n",
      " [ 37.49218733]\n",
      " [-48.05882945]\n",
      " [ -8.94145794]\n",
      " [ 15.30779289]\n",
      " [-34.70626581]\n",
      " [  1.38915437]\n",
      " [-44.38375985]\n",
      " [  7.01350208]\n",
      " [ 22.76274892]]\n",
      "\n",
      "Training labels\n",
      "Test samples : (12, 1)\n",
      "Test labels : (12,)\n",
      "Validation samples : (12, 1)\n",
      "Validation labels : (12,)\n"
     ]
    }
   ],
   "source": [
    "data = loadmat('ex5data1.mat')\n",
    "\n",
    "X, y = data['X'], data['y'].ravel()\n",
    "Xtest, ytest = data['Xtest'], data['ytest'].ravel()\n",
    "Xval, yval = data['Xval'], data['yval'].ravel()\n",
    "\n",
    "print(f'Training samples : {X.shape}')\n",
    "print(f'Training labels : {y.shape}')\n",
    "print(f'Training samples: \\n {X}\\n')\n",
    "print(f'Training labels')\n",
    "\n",
    "print(f'Test samples : {X.shape}')\n",
    "print(f'Test labels : {y.shape}')\n",
    "\n",
    "print(f'Validation samples : {X.shape}')\n",
    "print(f'Validation labels : {y.shape}')\n",
    "\n",
    "\n"
   ]
  },
  {
   "cell_type": "code",
   "execution_count": 18,
   "metadata": {},
   "outputs": [
    {
     "data": {
      "image/png": "[encoded data removed]",
      "text/plain": [
       "<Figure size 432x288 with 1 Axes>"
      ]
     },
     "metadata": {},
     "output_type": "display_data"
    }
   ],
   "source": [
    "plt.scatter(X.flatten(), y, c='white', edgecolors='red')\n",
    "plt.xlabel('Change in water level')\n",
    "plt.ylabel('Water flowing out of the dam')\n",
    "plt.show()"
   ]
  },
  {
   "cell_type": "markdown",
   "metadata": {},
   "source": [
    "## Regularized Linear Regression Cost and Gradient"
   ]
  },
  {
   "cell_type": "code",
   "execution_count": 44,
   "metadata": {},
   "outputs": [],
   "source": [
    "def linearRegCostFunction(X, y, theta, lmbda):\n",
    "    '''Compute cost and gradient for regularized linear regression with multiple variables'''\n",
    "    \n",
    "    m = y.size\n",
    "    \n",
    "    X = np.concatenate([np.ones((m,1)), X], axis=1)\n",
    "    y = y.reshape(len(y), 1)\n",
    "    \n",
    "    grad = np.zeros(theta.shape)\n",
    "    J = 1/(2 *m) * np.sum((X.dot(theta) - y) ** 2) + lmbda/(2* m) * np.sum(theta[1:] ** 2)\n",
    "    grad[0] = (1/m) * np.sum(X.dot(theta) - y)\n",
    "    grad[1:] = (1/m) * np.sum((X.dot(theta) - y) * X[:, 1:]) + lmbda/m * theta[1:]\n",
    "    \n",
    "    return J, grad"
   ]
  },
  {
   "cell_type": "code",
   "execution_count": 45,
   "metadata": {},
   "outputs": [
    {
     "name": "stdout",
     "output_type": "stream",
     "text": [
      "(12,)\n",
      "[[-17.07106864 -16.11001481 -49.29586731 -51.7747133  -17.74572321\n",
      "  -17.05783061 -29.64702644 -17.55094252 -18.6769298  -18.66844944\n",
      "  -22.56441699 -37.68918644]\n",
      " [-30.28728972 -29.3262359  -62.5120884  -64.99093438 -30.96194429\n",
      "  -30.27405169 -42.86324752 -30.7671636  -31.89315088 -31.88467053\n",
      "  -35.78063807 -50.90540752]\n",
      " [ 35.05523812  36.01629195   2.83043945   0.35159346  34.38058355\n",
      "   35.06847615  22.47928032  34.57536424  33.44937696  33.45785732\n",
      "   29.56188977  14.43712032]\n",
      " [ 36.35787683  37.31893065   4.13307815   1.65423217  35.68322226\n",
      "   36.37111486  23.78191903  35.87800295  34.75201567  34.76049602\n",
      "   30.86452848  15.73975903]\n",
      " [-49.19313996 -48.23208613 -81.41793863 -83.89678462 -49.86779453\n",
      "  -49.17990193 -61.76909776 -49.67301384 -50.79900112 -50.79052076\n",
      "  -54.6864883  -69.81125775]\n",
      " [-10.07576844  -9.11471462 -42.30056712 -44.7794131  -10.75042301\n",
      "  -10.06253041 -22.65172624 -10.55564232 -11.6816296  -11.67314925\n",
      "  -15.56911679 -30.69388624]\n",
      " [ 14.17348238  15.13453621 -18.05131629 -20.53016227  13.49882781\n",
      "   14.18672041   1.59752458  13.6936085   12.56762122  12.57610158\n",
      "    8.68013404  -6.44463541]\n",
      " [-35.84057632 -34.87952249 -68.06537499 -70.54422098 -36.51523089\n",
      "  -35.82733829 -48.41653412 -36.3204502  -37.44643748 -37.43795712\n",
      "  -41.33392466 -56.45869411]\n",
      " [  0.25484386   1.21589769 -31.96995481 -34.4488008   -0.41981071\n",
      "    0.26808189 -12.32111394  -0.22503002  -1.3510173   -1.34253694\n",
      "   -5.23850448 -20.36327393]\n",
      " [-45.51807036 -44.55701653 -77.74286903 -80.22171502 -46.19272493\n",
      "  -45.50483233 -58.09402816 -45.99794424 -47.12393152 -47.11545116\n",
      "  -51.0114187  -66.13618815]\n",
      " [  5.87919158   6.8402454  -26.3456071  -28.82445308   5.20453701\n",
      "    5.89242961  -6.69676622   5.3993177    4.27333042   4.28181077\n",
      "    0.38584323 -14.73892622]\n",
      " [ 21.62843841  22.58949224 -10.59636026 -13.07520624  20.95378385\n",
      "   21.64167644   9.05248061  21.14856453  20.02257725  20.03105761\n",
      "   16.13509007   1.01032062]]\n",
      "Cost at theta = [1 ; 1]: 7279.838623141936\n",
      "(this value should be about 303.993192)\n",
      "\n",
      "Gradient at theta = [1 ; 1]:  (array([-183.63618809]), array([10810.47091324])) \n",
      "(this value should be about [-15.303016; 598.250744])\n",
      "\n"
     ]
    }
   ],
   "source": [
    "theta = np.ones((2,1))\n",
    "\n",
    "(J, grad) = linearRegCostFunction(X, y, theta, 1);\n",
    "\n",
    "print(f'Cost at theta = [1 ; 1]: {J}\\n(this value should be about 303.993192)\\n');\n",
    "\n",
    "print(f'Gradient at theta = [1 ; 1]:  {grad[0], grad[1]} \\n(this value should be about [-15.303016; 598.250744])\\n')"
   ]
  },
  {
   "cell_type": "code",
   "execution_count": null,
   "metadata": {},
   "outputs": [],
   "source": []
  },
  {
   "cell_type": "code",
   "execution_count": null,
   "metadata": {},
   "outputs": [],
   "source": []
  },
  {
   "cell_type": "code",
   "execution_count": null,
   "metadata": {},
   "outputs": [],
   "source": []
  }
 ],
 "metadata": {
  "kernelspec": {
   "display_name": "Python 3",
   "language": "python",
   "name": "python3"
  },
  "language_info": {
   "codemirror_mode": {
    "name": "ipython",
    "version": 3
   },
   "file_extension": ".py",
   "mimetype": "text/x-python",
   "name": "python",
   "nbconvert_exporter": "python",
   "pygments_lexer": "ipython3",
   "version": "3.6.4"
  }
 },
 "nbformat": 4,
 "nbformat_minor": 2
}
