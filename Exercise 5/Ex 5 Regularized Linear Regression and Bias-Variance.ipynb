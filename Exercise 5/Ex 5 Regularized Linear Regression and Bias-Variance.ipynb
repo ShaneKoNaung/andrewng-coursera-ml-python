{
 "cells": [
  {
   "cell_type": "markdown",
   "metadata": {},
   "source": [
    "## Loading and Visualizing Data"
   ]
  },
  {
   "cell_type": "code",
   "execution_count": 1,
   "metadata": {},
   "outputs": [],
   "source": [
    "import numpy as np\n",
    "import pandas as pd\n",
    "import matplotlib.pyplot as plt\n",
    "\n",
    "from scipy import optimize\n",
    "from scipy.io import loadmat"
   ]
  },
  {
   "cell_type": "code",
   "execution_count": 2,
   "metadata": {},
   "outputs": [
    {
     "name": "stdout",
     "output_type": "stream",
     "text": [
      "Training samples : (12, 1)\n",
      "Training labels : (12,)\n",
      "Training samples: \n",
      " [[-15.93675813]\n",
      " [-29.15297922]\n",
      " [ 36.18954863]\n",
      " [ 37.49218733]\n",
      " [-48.05882945]\n",
      " [ -8.94145794]\n",
      " [ 15.30779289]\n",
      " [-34.70626581]\n",
      " [  1.38915437]\n",
      " [-44.38375985]\n",
      " [  7.01350208]\n",
      " [ 22.76274892]]\n",
      "\n",
      "Training labels\n",
      "Test samples : (21, 1)\n",
      "Test labels : (21,)\n",
      "Validation samples : (21, 1)\n",
      "Validation labels : (21,)\n"
     ]
    }
   ],
   "source": [
    "data = loadmat('ex5data1.mat')\n",
    "\n",
    "X, y = data['X'], data['y'].ravel()\n",
    "Xtest, ytest = data['Xtest'], data['ytest'].ravel()\n",
    "Xval, yval = data['Xval'], data['yval'].ravel()\n",
    "\n",
    "m = y.shape[0]\n",
    "print(f'Training samples : {X.shape}')\n",
    "print(f'Training labels : {y.shape}')\n",
    "print(f'Training samples: \\n {X}\\n')\n",
    "print(f'Training labels')\n",
    "\n",
    "print(f'Test samples : {Xtest.shape}')\n",
    "print(f'Test labels : {ytest.shape}')\n",
    "\n",
    "print(f'Validation samples : {Xval.shape}')\n",
    "print(f'Validation labels : {yval.shape}')\n",
    "\n",
    "\n"
   ]
  },
  {
   "cell_type": "code",
   "execution_count": 3,
   "metadata": {},
   "outputs": [
    {
     "data": {
      "image/png": "[encoded data removed]",
      "text/plain": [
       "<Figure size 432x288 with 1 Axes>"
      ]
     },
     "metadata": {},
     "output_type": "display_data"
    }
   ],
   "source": [
    "plt.scatter(X.flatten(), y, c='white', edgecolors='red')\n",
    "plt.xlabel('Change in water level')\n",
    "plt.ylabel('Water flowing out of the dam')\n",
    "plt.show()"
   ]
  },
  {
   "cell_type": "markdown",
   "metadata": {},
   "source": [
    "## Regularized Linear Regression Cost and Gradient"
   ]
  },
  {
   "cell_type": "code",
   "execution_count": 51,
   "metadata": {},
   "outputs": [],
   "source": [
    "def linearRegCostFunction(theta, X, y, lmbda):\n",
    "    '''Compute cost and gradient for regularized linear regression with multiple variables'''\n",
    "    \n",
    "    m = y.shape[0]\n",
    "    \n",
    "    y = y.reshape(len(y), 1)\n",
    "    \n",
    "    theta = theta.reshape(len(theta),1)\n",
    "    J = 1/(2 *m) * np.sum((X.dot(theta) - y) ** 2) + (lmbda/(2* m)) * np.sum(theta[1:] ** 2)\n",
    "\n",
    "    return J\n",
    "\n",
    "def gradient(theta, X, y, lmbda):\n",
    "    m = y.shape[0]\n",
    "    \n",
    "    y = y.reshape(len(y), 1)\n",
    "    \n",
    "    grad = np.zeros(theta.shape)\n",
    "    theta = theta.reshape(len(theta),1)\n",
    "    \n",
    "    grad[0] = (1/m) * np.sum(X.dot(theta) - y)\n",
    "    grad[1:] = (1/m) * np.sum((X.dot(theta) - y) * X[:, 1:]) + (lmbda/m) * theta[1:].reshape(grad[1:].shape)\n",
    "    \n",
    "    grad = grad[:]\n",
    "    return grad.flatten()"
   ]
  },
  {
   "cell_type": "code",
   "execution_count": 52,
   "metadata": {},
   "outputs": [
    {
     "name": "stdout",
     "output_type": "stream",
     "text": [
      "[-15.30301567 598.25074417]\n",
      "Cost at theta = [1 ; 1]: 303.9931922202643\n",
      "(tbis value should be about 303.993192)\n",
      "\n",
      "Gradient at theta = [1 ; 1]:  (-15.303015674201186, 598.2507441727035) \n",
      "(this value should be about [-15.303016; 598.250744])\n",
      "\n"
     ]
    }
   ],
   "source": [
    "theta = np.array([1,1])\n",
    "X_aug = np.concatenate([np.ones((m,1)), X], axis=1)\n",
    "J = linearRegCostFunction(theta, X_aug, y, 1);\n",
    "grad = gradient(theta, X_aug, y, 1)\n",
    "print(grad)\n",
    "print(f'Cost at theta = [1 ; 1]: {J}\\n(tbis value should be about 303.993192)\\n');\n",
    "\n",
    "print(f'Gradient at theta = [1 ; 1]:  {grad[0], grad[1]} \\n(this value should be about [-15.303016; 598.250744])\\n')\n"
   ]
  },
  {
   "cell_type": "markdown",
   "metadata": {},
   "source": [
    "## Train Linear Regression"
   ]
  },
  {
   "cell_type": "code",
   "execution_count": 56,
   "metadata": {},
   "outputs": [],
   "source": [
    "def trainLinearReg(linearRegCostFunction, X, y, lmbda):\n",
    "    \n",
    "    # Initialize Theta\n",
    "    initial_theta = np.zeros(X.shape[1])\n",
    "    \n",
    "    costFunction = lambda t: linearRegCostFunction(X, y, t, lmbda)\n",
    "\n",
    "    # Minimize using scipy\n",
    "    res = optimize.fmin_cg(linearRegCostFunction, x0=initial_theta, args=(X,y,lmbda), disp=True)\n",
    "    return res"
   ]
  },
  {
   "cell_type": "code",
   "execution_count": 58,
   "metadata": {},
   "outputs": [
    {
     "name": "stdout",
     "output_type": "stream",
     "text": [
      "Optimization terminated successfully.\n",
      "         Current function value: 22.373906\n",
      "         Iterations: 3\n",
      "         Function evaluations: 28\n",
      "         Gradient evaluations: 7\n"
     ]
    }
   ],
   "source": [
    "lmbda = 0\n",
    "theta= trainLinearReg(linearRegCostFunction, X_aug, y, lmbda)\n"
   ]
  },
  {
   "cell_type": "code",
   "execution_count": 59,
   "metadata": {
    "scrolled": true
   },
   "outputs": [
    {
     "data": {
      "image/png": "[encoded data removed]",
      "text/plain": [
       "<Figure size 432x288 with 1 Axes>"
      ]
     },
     "metadata": {},
     "output_type": "display_data"
    }
   ],
   "source": [
    "plt.scatter(X.flatten(), y, c='white', edgecolors='red')\n",
    "plt.xlabel('Change in water level')\n",
    "plt.ylabel('Water flowing out of the dam')\n",
    "plt.plot(X, X_aug.dot(theta), 'b')\n",
    "plt.show()"
   ]
  },
  {
   "cell_type": "code",
   "execution_count": 60,
   "metadata": {},
   "outputs": [
    {
     "name": "stdout",
     "output_type": "stream",
     "text": [
      "Optimization terminated successfully.\n",
      "         Current function value: 105.411324\n",
      "         Iterations: 1\n",
      "         Function evaluations: 9\n",
      "         Gradient evaluations: 3\n"
     ]
    },
    {
     "data": {
      "text/plain": [
       "144.15073922148736"
      ]
     },
     "execution_count": 60,
     "metadata": {},
     "output_type": "execute_result"
    }
   ],
   "source": [
    "theta= trainLinearReg(linearRegCostFunction, X, y, 3)\n",
    "prob = Xtest.dot(theta)\n",
    "J =  1/(2 * len(ytest)) * np.sum((Xtest.dot(theta.reshape(len(theta),1)) - ytest.reshape(len(ytest),1)) ** 2)\n",
    "J"
   ]
  },
  {
   "cell_type": "markdown",
   "metadata": {},
   "source": [
    "## Learning Curve for Linear Regression "
   ]
  },
  {
   "cell_type": "code",
   "execution_count": 63,
   "metadata": {},
   "outputs": [],
   "source": [
    "def learningCurve(X, y, Xval, yval, lmbda):\n",
    "    m = y.shape[0]\n",
    "    val_m = yval.shape[0]\n",
    "    train_error = np.zeros(m)\n",
    "    val_error = np.zeros(m)\n",
    "    \n",
    "    for i in range(1, m+1):\n",
    "        theta= trainLinearReg(linearRegCostFunction, X[:i,:], y[:i], lmbda)\n",
    "        \n",
    "        J_train =  1/(2 *i) * np.sum((X[:i,:].dot(theta.reshape(len(theta),1)) - y[:i].reshape(len(y[:i]),1)) ** 2)\n",
    "        J_val = 1/(2 * val_m) * np.sum((Xval.dot(theta.reshape(len(theta),1)) - yval.reshape(len(yval),1)) ** 2)\n",
    "        \n",
    "        train_error[i - 1] = J_train\n",
    "        val_error[i - 1] = J_val\n",
    "    \n",
    "    return train_error, val_error"
   ]
  },
  {
   "cell_type": "code",
   "execution_count": 64,
   "metadata": {},
   "outputs": [
    {
     "name": "stdout",
     "output_type": "stream",
     "text": [
      "Optimization terminated successfully.\n",
      "         Current function value: 0.000000\n",
      "         Iterations: 1\n",
      "         Function evaluations: 12\n",
      "         Gradient evaluations: 3\n",
      "Optimization terminated successfully.\n",
      "         Current function value: 0.000000\n",
      "         Iterations: 2\n",
      "         Function evaluations: 24\n",
      "         Gradient evaluations: 6\n",
      "Optimization terminated successfully.\n",
      "         Current function value: 3.286595\n",
      "         Iterations: 9\n",
      "         Function evaluations: 60\n",
      "         Gradient evaluations: 15\n",
      "Optimization terminated successfully.\n",
      "         Current function value: 2.842678\n",
      "         Iterations: 8\n",
      "         Function evaluations: 60\n",
      "         Gradient evaluations: 15\n",
      "Optimization terminated successfully.\n",
      "         Current function value: 13.154049\n",
      "         Iterations: 21\n",
      "         Function evaluations: 136\n",
      "         Gradient evaluations: 34\n",
      "Optimization terminated successfully.\n",
      "         Current function value: 19.443963\n",
      "         Iterations: 17\n",
      "         Function evaluations: 112\n",
      "         Gradient evaluations: 28\n",
      "Optimization terminated successfully.\n",
      "         Current function value: 20.098522\n",
      "         Iterations: 18\n",
      "         Function evaluations: 120\n",
      "         Gradient evaluations: 30\n",
      "Optimization terminated successfully.\n",
      "         Current function value: 18.172859\n",
      "         Iterations: 3\n",
      "         Function evaluations: 28\n",
      "         Gradient evaluations: 7\n",
      "Optimization terminated successfully.\n",
      "         Current function value: 22.609405\n",
      "         Iterations: 3\n",
      "         Function evaluations: 28\n",
      "         Gradient evaluations: 7\n",
      "Optimization terminated successfully.\n",
      "         Current function value: 23.261462\n",
      "         Iterations: 5\n",
      "         Function evaluations: 56\n",
      "         Gradient evaluations: 14\n",
      "Optimization terminated successfully.\n",
      "         Current function value: 24.317250\n",
      "         Iterations: 3\n",
      "         Function evaluations: 28\n",
      "         Gradient evaluations: 7\n",
      "Optimization terminated successfully.\n",
      "         Current function value: 22.373906\n",
      "         Iterations: 3\n",
      "         Function evaluations: 28\n",
      "         Gradient evaluations: 7\n"
     ]
    },
    {
     "data": {
      "image/png": "[encoded data removed]",
      "text/plain": [
       "<Figure size 432x288 with 1 Axes>"
      ]
     },
     "metadata": {},
     "output_type": "display_data"
    }
   ],
   "source": [
    "Xval_aug = np.concatenate([np.ones((len(Xval),1)), Xval], axis=1)\n",
    "train_error, val_error = learningCurve(X_aug, y, Xval_aug, yval, 0)\n",
    "\n",
    "plt.plot(range(1,m), train_error[1:], 'r', label='Training error')\n",
    "plt.plot(range(1,m), val_error[1:], 'b', label='Validation error')\n",
    "plt.xlabel('Number of Training examples')\n",
    "plt.ylabel('Error')\n",
    "plt.legend()\n",
    "plt.show()"
   ]
  },
  {
   "cell_type": "code",
   "execution_count": 65,
   "metadata": {},
   "outputs": [
    {
     "name": "stdout",
     "output_type": "stream",
     "text": [
      "Polynomial Regression (lambda = 0)\n",
      "\n",
      "\n",
      "# Training Examples\tTrain Error\tCross Validation Error\n",
      "\n",
      "  \t1\t\t2.1562247628194225e-15\t205.12109727096887\n",
      "\n",
      "  \t2\t\t2.042611255213982e-13\t110.30040734636871\n",
      "\n",
      "  \t3\t\t3.286595045504132\t45.01022924883396\n",
      "\n",
      "  \t4\t\t2.842677689399821\t48.368911253127614\n",
      "\n",
      "  \t5\t\t13.154048809115057\t35.86516317745688\n",
      "\n",
      "  \t6\t\t19.44396251249551\t33.8299607129324\n",
      "\n",
      "  \t7\t\t20.09852165510405\t31.97098671440143\n",
      "\n",
      "  \t8\t\t18.172858695201086\t30.86244634856148\n",
      "\n",
      "  \t9\t\t22.609405424954787\t31.135997784547303\n",
      "\n",
      "  \t10\t\t23.26146159261198\t28.936207058172617\n",
      "\n",
      "  \t11\t\t24.31724958804428\t29.551430870364214\n",
      "\n",
      "  \t12\t\t22.37390649511925\t29.433823586740925\n",
      "\n"
     ]
    }
   ],
   "source": [
    "print(f'Polynomial Regression (lambda = {lmbda})\\n\\n')\n",
    "print('# Training Examples\\tTrain Error\\tCross Validation Error\\n')\n",
    "for i in range(1, m+1):\n",
    "    print(f'  \\t{i}\\t\\t{train_error[i - 1]}\\t{val_error[i - 1]}\\n')"
   ]
  },
  {
   "cell_type": "markdown",
   "metadata": {},
   "source": [
    "## Feature Mapping for Polynomial Regression"
   ]
  },
  {
   "cell_type": "code",
   "execution_count": 66,
   "metadata": {},
   "outputs": [],
   "source": [
    "def polyFeatures(X, p):\n",
    "    \n",
    "    X_poly = X[:]\n",
    "\n",
    "    for i in range(2, p+1):\n",
    "        X_poly = np.append(X_poly, X**i, axis=1)\n",
    "    \n",
    "    return X_poly"
   ]
  },
  {
   "cell_type": "code",
   "execution_count": 67,
   "metadata": {},
   "outputs": [],
   "source": [
    "def featureNormalize(X):\n",
    "    \n",
    "    mu = np.mean(X, axis=0)\n",
    "    X -= mu\n",
    "    \n",
    "    std = np.std(X, axis=0)\n",
    "    X = np.true_divide(X, std)\n",
    "    \n",
    "    return X, mu, std"
   ]
  },
  {
   "cell_type": "code",
   "execution_count": 68,
   "metadata": {},
   "outputs": [
    {
     "name": "stdout",
     "output_type": "stream",
     "text": [
      "(21, 8)\n",
      "(8,)\n"
     ]
    }
   ],
   "source": [
    "p = 8\n",
    "\n",
    "# Map X onto Polynomial Features and Normalize\n",
    "X_poly = polyFeatures(X, p)\n",
    "X_poly, mu, std = featureNormalize(X_poly)\n",
    "X_poly = np.concatenate([np.ones((m,1)), X_poly], axis=1)\n",
    "\n",
    "Xval_poly = polyFeatures(Xval, p)\n",
    "print(Xval_poly.shape)\n",
    "print(mu.shape)\n",
    "Xval_poly -= mu\n",
    "Xval_poly /= std\n",
    "Xval_poly = np.concatenate([np.ones((Xval_poly.shape[0],1)), Xval_poly], axis=1)\n",
    "\n",
    "Xtest_poly = polyFeatures(Xtest, p)\n",
    "Xtest_poly -= mu\n",
    "Xtest_poly /= std\n",
    "Xtest_poly = np.concatenate([np.ones((Xtest_poly.shape[0],1)), Xtest_poly], axis=1)"
   ]
  },
  {
   "cell_type": "code",
   "execution_count": 69,
   "metadata": {},
   "outputs": [
    {
     "name": "stdout",
     "output_type": "stream",
     "text": [
      "Normalized Training Example 1:\n",
      "\n",
      "  [1. 1. 1. 1. 1. 1. 1. 1. 1. 1. 1. 1.]  \n",
      "\n",
      "(12, 9)\n",
      "Normalized validation Example 1:\n",
      "\n",
      "  [1. 1. 1. 1. 1. 1. 1. 1. 1. 1. 1. 1. 1. 1. 1. 1. 1. 1. 1. 1. 1.]  \n",
      "\n"
     ]
    }
   ],
   "source": [
    "print('Normalized Training Example 1:\\n')\n",
    "print(f'  {X_poly[:,0]}  \\n', )\n",
    "print(f'{X_poly.shape}')\n",
    "\n",
    "print('Normalized validation Example 1:\\n')\n",
    "print(f'  {Xval_poly[:,0]}  \\n', )\n"
   ]
  },
  {
   "cell_type": "markdown",
   "metadata": {},
   "source": [
    "## Learning Curve for Polynomial Regression"
   ]
  },
  {
   "cell_type": "code",
   "execution_count": 70,
   "metadata": {},
   "outputs": [
    {
     "name": "stdout",
     "output_type": "stream",
     "text": [
      "Optimization terminated successfully.\n",
      "         Current function value: 0.000000\n",
      "         Iterations: 2\n",
      "         Function evaluations: 55\n",
      "         Gradient evaluations: 5\n",
      "Optimization terminated successfully.\n",
      "         Current function value: 0.108491\n",
      "         Iterations: 12\n",
      "         Function evaluations: 231\n",
      "         Gradient evaluations: 21\n",
      "Optimization terminated successfully.\n",
      "         Current function value: 74.611380\n",
      "         Iterations: 18\n",
      "         Function evaluations: 396\n",
      "         Gradient evaluations: 36\n",
      "Optimization terminated successfully.\n",
      "         Current function value: 73.166196\n",
      "         Iterations: 11\n",
      "         Function evaluations: 242\n",
      "         Gradient evaluations: 22\n",
      "Optimization terminated successfully.\n",
      "         Current function value: 59.147974\n",
      "         Iterations: 10\n",
      "         Function evaluations: 220\n",
      "         Gradient evaluations: 20\n",
      "Optimization terminated successfully.\n",
      "         Current function value: 54.236533\n",
      "         Iterations: 22\n",
      "         Function evaluations: 451\n",
      "         Gradient evaluations: 41\n",
      "Optimization terminated successfully.\n",
      "         Current function value: 46.742359\n",
      "         Iterations: 15\n",
      "         Function evaluations: 330\n",
      "         Gradient evaluations: 30\n",
      "Optimization terminated successfully.\n",
      "         Current function value: 41.751426\n",
      "         Iterations: 16\n",
      "         Function evaluations: 374\n",
      "         Gradient evaluations: 34\n",
      "Optimization terminated successfully.\n",
      "         Current function value: 38.785990\n",
      "         Iterations: 18\n",
      "         Function evaluations: 385\n",
      "         Gradient evaluations: 35\n",
      "Optimization terminated successfully.\n",
      "         Current function value: 34.910274\n",
      "         Iterations: 20\n",
      "         Function evaluations: 385\n",
      "         Gradient evaluations: 35\n",
      "Optimization terminated successfully.\n",
      "         Current function value: 31.891494\n",
      "         Iterations: 18\n",
      "         Function evaluations: 385\n",
      "         Gradient evaluations: 35\n",
      "Optimization terminated successfully.\n",
      "         Current function value: 31.878154\n",
      "         Iterations: 16\n",
      "         Function evaluations: 297\n",
      "         Gradient evaluations: 27\n"
     ]
    },
    {
     "data": {
      "image/png": "[encoded data removed]",
      "text/plain": [
       "<Figure size 432x288 with 1 Axes>"
      ]
     },
     "metadata": {},
     "output_type": "display_data"
    }
   ],
   "source": [
    "lmbda = 10\n",
    "\n",
    "train_error, val_error = learningCurve(X_poly, y, Xval_poly, yval, lmbda)\n",
    "\n",
    "plt.plot(range(m), train_error, 'r', label='Training error', lw=2)\n",
    "plt.plot(range(m), val_error, 'b', label='Validation error', lw=2)\n",
    "plt.xlabel('Number of Training examples')\n",
    "plt.ylabel('Error')\n",
    "plt.title(\"Lambda = 10\")\n",
    "plt.legend()\n",
    "plt.show()"
   ]
  },
  {
   "cell_type": "code",
   "execution_count": 71,
   "metadata": {
    "scrolled": true
   },
   "outputs": [
    {
     "name": "stdout",
     "output_type": "stream",
     "text": [
      "Polynomial Regression (lambda = 10)\n",
      "\n",
      "\n",
      "# Training Examples\tTrain Error\tCross Validabbbtion Error\n",
      "\n",
      "  \t1\t\t2.3446235138928802e-15\t138.8467786799058\n",
      "\n",
      "  \t2\t\t0.1019495780392726\t144.0063718524174\n",
      "\n",
      "  \t3\t\t46.82399017165221\t24.553758717294297\n",
      "\n",
      "  \t4\t\t37.06809562628412\t16.14757418342476\n",
      "\n",
      "  \t5\t\t28.93274769292057\t14.069746078647972\n",
      "\n",
      "  \t6\t\t24.905961293603497\t10.386616558848653\n",
      "\n",
      "  \t7\t\t21.869107161364255\t10.56337070280795\n",
      "\n",
      "  \t8\t\t18.729837719122994\t10.084205335386779\n",
      "\n",
      "  \t9\t\t17.294930174594526\t9.829351945739969\n",
      "\n",
      "  \t10\t\t15.540216316377133\t9.849501825130186\n",
      "\n",
      "  \t11\t\t14.092469684550455\t9.935514779382288\n",
      "\n",
      "  \t12\t\t14.825787572234654\t8.889706979179818\n",
      "\n"
     ]
    }
   ],
   "source": [
    "print(f'Polynomial Regression (lambda = {lmbda})\\n\\n')\n",
    "print('# Training Examples\\tTrain Error\\tCross Validabbbtion Error\\n')\n",
    "for i in range(1, m+1):\n",
    "    print(f'  \\t{i}\\t\\t{train_error[i - 1]}\\t{val_error[i - 1]}\\n')\n",
    "\n"
   ]
  },
  {
   "cell_type": "code",
   "execution_count": 72,
   "metadata": {},
   "outputs": [
    {
     "name": "stdout",
     "output_type": "stream",
     "text": [
      "Optimization terminated successfully.\n",
      "         Current function value: 0.000000\n",
      "         Iterations: 2\n",
      "         Function evaluations: 44\n",
      "         Gradient evaluations: 4\n",
      "Optimization terminated successfully.\n",
      "         Current function value: 0.000000\n",
      "         Iterations: 6\n",
      "         Function evaluations: 99\n",
      "         Gradient evaluations: 9\n",
      "Optimization terminated successfully.\n",
      "         Current function value: 0.000000\n",
      "         Iterations: 15\n",
      "         Function evaluations: 297\n",
      "         Gradient evaluations: 27\n",
      "Optimization terminated successfully.\n",
      "         Current function value: 0.000000\n",
      "         Iterations: 11\n",
      "         Function evaluations: 264\n",
      "         Gradient evaluations: 24\n",
      "Optimization terminated successfully.\n",
      "         Current function value: 0.000000\n",
      "         Iterations: 68\n",
      "         Function evaluations: 1430\n",
      "         Gradient evaluations: 130\n",
      "Optimization terminated successfully.\n",
      "         Current function value: 0.000000\n",
      "         Iterations: 182\n",
      "         Function evaluations: 3520\n",
      "         Gradient evaluations: 320\n",
      "Optimization terminated successfully.\n",
      "         Current function value: 0.000000\n",
      "         Iterations: 286\n",
      "         Function evaluations: 5731\n",
      "         Gradient evaluations: 521\n",
      "Optimization terminated successfully.\n",
      "         Current function value: 0.000002\n",
      "         Iterations: 1406\n",
      "         Function evaluations: 28292\n",
      "         Gradient evaluations: 2572\n",
      "Optimization terminated successfully.\n",
      "         Current function value: 0.000230\n",
      "         Iterations: 846\n",
      "         Function evaluations: 16907\n",
      "         Gradient evaluations: 1537\n",
      "Warning: Maximum number of iterations has been exceeded.\n",
      "         Current function value: 0.011520\n",
      "         Iterations: 1800\n",
      "         Function evaluations: 37356\n",
      "         Gradient evaluations: 3396\n",
      "Warning: Maximum number of iterations has been exceeded.\n",
      "         Current function value: 0.031287\n",
      "         Iterations: 1800\n",
      "         Function evaluations: 37136\n",
      "         Gradient evaluations: 3376\n",
      "Optimization terminated successfully.\n",
      "         Current function value: 0.028902\n",
      "         Iterations: 1423\n",
      "         Function evaluations: 29392\n",
      "         Gradient evaluations: 2672\n"
     ]
    },
    {
     "data": {
      "image/png": "[encoded data removed]",
      "text/plain": [
       "<Figure size 432x288 with 1 Axes>"
      ]
     },
     "metadata": {},
     "output_type": "display_data"
    }
   ],
   "source": [
    "lmbda = 0\n",
    "\n",
    "train_error, val_error = learningCurve(X_poly, y, Xval_poly, yval, lmbda)\n",
    "\n",
    "plt.plot(range(m), train_error, 'r', label='Training error', lw=2)\n",
    "plt.plot(range(m), val_error, 'b', label='Validation error', lw=2)\n",
    "plt.xlabel('Number of Training examples')\n",
    "plt.ylabel('Error')\n",
    "plt.title(\"Lambda = 0\")\n",
    "plt.legend()\n",
    "plt.show()"
   ]
  },
  {
   "cell_type": "code",
   "execution_count": 74,
   "metadata": {},
   "outputs": [
    {
     "name": "stdout",
     "output_type": "stream",
     "text": [
      "Polynomial Regression (lambda = 0)\n",
      "\n",
      "\n",
      "# Training Examples\tTrain Error\tCross Validabbbtion Error\n",
      "\n",
      "  \t1\t\t3.239921769031273e-19\t161.44216831724236\n",
      "\n",
      "  \t2\t\t9.815781014698298e-15\t160.792292522442\n",
      "\n",
      "  \t3\t\t2.698176182862745e-11\t67.08497869865991\n",
      "\n",
      "  \t4\t\t5.222066820857237e-10\t67.72611260827057\n",
      "\n",
      "  \t5\t\t2.0101488466986297e-10\t6.616634814409178\n",
      "\n",
      "  \t6\t\t1.1670164293905354e-09\t10.643037402994505\n",
      "\n",
      "  \t7\t\t1.0716673526500077e-08\t28.005116183681793\n",
      "\n",
      "  \t8\t\t1.6236846504775663e-06\t22.591152295880313\n",
      "\n",
      "  \t9\t\t0.00023047029389343935\t32.022215949594624\n",
      "\n",
      "  \t10\t\t0.011520211983012082\t81.40271060820353\n",
      "\n",
      "  \t11\t\t0.03128683762625319\t47.87390256334612\n",
      "\n",
      "  \t12\t\t0.028902469233529036\t52.5421948339007\n",
      "\n"
     ]
    }
   ],
   "source": [
    "print(f'Polynomial Regression (lambda = {lmbda})\\n\\n')\n",
    "print('# Training Examples\\tTrain Error\\tCross Validabbbtion Error\\n')\n",
    "for i in range(1, m+1):\n",
    "    print(f'  \\t{i}\\t\\t{train_error[i - 1]}\\t{val_error[i - 1]}\\n')"
   ]
  },
  {
   "cell_type": "code",
   "execution_count": 75,
   "metadata": {
    "scrolled": true
   },
   "outputs": [
    {
     "name": "stdout",
     "output_type": "stream",
     "text": [
      "Optimization terminated successfully.\n",
      "         Current function value: 0.000000\n",
      "         Iterations: 4\n",
      "         Function evaluations: 88\n",
      "         Gradient evaluations: 8\n",
      "Optimization terminated successfully.\n",
      "         Current function value: 0.070327\n",
      "         Iterations: 20\n",
      "         Function evaluations: 319\n",
      "         Gradient evaluations: 29\n",
      "Optimization terminated successfully.\n",
      "         Current function value: 17.182727\n",
      "         Iterations: 19\n",
      "         Function evaluations: 374\n",
      "         Gradient evaluations: 34\n",
      "Optimization terminated successfully.\n",
      "         Current function value: 13.476899\n",
      "         Iterations: 22\n",
      "         Function evaluations: 473\n",
      "         Gradient evaluations: 43\n",
      "Optimization terminated successfully.\n",
      "         Current function value: 10.781524\n",
      "         Iterations: 10\n",
      "         Function evaluations: 253\n",
      "         Gradient evaluations: 23\n",
      "Optimization terminated successfully.\n",
      "         Current function value: 9.347014\n",
      "         Iterations: 37\n",
      "         Function evaluations: 638\n",
      "         Gradient evaluations: 58\n",
      "Optimization terminated successfully.\n",
      "         Current function value: 8.754387\n",
      "         Iterations: 34\n",
      "         Function evaluations: 594\n",
      "         Gradient evaluations: 54\n",
      "Optimization terminated successfully.\n",
      "         Current function value: 7.682189\n",
      "         Iterations: 32\n",
      "         Function evaluations: 583\n",
      "         Gradient evaluations: 53\n",
      "Optimization terminated successfully.\n",
      "         Current function value: 7.277291\n",
      "         Iterations: 40\n",
      "         Function evaluations: 726\n",
      "         Gradient evaluations: 66\n",
      "Optimization terminated successfully.\n",
      "         Current function value: 6.592031\n",
      "         Iterations: 34\n",
      "         Function evaluations: 682\n",
      "         Gradient evaluations: 62\n",
      "Optimization terminated successfully.\n",
      "         Current function value: 5.994056\n",
      "         Iterations: 25\n",
      "         Function evaluations: 528\n",
      "         Gradient evaluations: 48\n",
      "Optimization terminated successfully.\n",
      "         Current function value: 6.830463\n",
      "         Iterations: 38\n",
      "         Function evaluations: 781\n",
      "         Gradient evaluations: 71\n"
     ]
    },
    {
     "data": {
      "image/png": "[encoded data removed]",
      "text/plain": [
       "<Figure size 432x288 with 1 Axes>"
      ]
     },
     "metadata": {},
     "output_type": "display_data"
    }
   ],
   "source": [
    "lmbda = 1\n",
    "\n",
    "train_error, val_error = learningCurve(X_poly, y, Xval_poly, yval, lmbda)\n",
    "\n",
    "plt.plot(range(m), train_error, 'r', label='Training error', lw=2)\n",
    "plt.plot(range(m), val_error, 'b', label='Validation error', lw=2)\n",
    "plt.xlabel('Number of Training examples')\n",
    "plt.ylabel('Error')\n",
    "plt.title(\"Lambda = 1\")\n",
    "plt.legend()\n",
    "plt.show()"
   ]
  },
  {
   "cell_type": "code",
   "execution_count": 76,
   "metadata": {},
   "outputs": [
    {
     "name": "stdout",
     "output_type": "stream",
     "text": [
      "Polynomial Regression (lambda = 1)\n",
      "\n",
      "\n",
      "# Training Examples\tTrain Error\tCross Validabbbtion Error\n",
      "\n",
      "  \t1\t\t7.164967965912487e-17\t138.84677500669164\n",
      "\n",
      "  \t2\t\t0.04283638600796075\t143.50268937695404\n",
      "\n",
      "  \t3\t\t2.515215208278511\t5.749661852119291\n",
      "\n",
      "  \t4\t\t1.2855479711011446\t6.890142921918087\n",
      "\n",
      "  \t5\t\t1.0283185404064896\t6.900655020534439\n",
      "\n",
      "  \t6\t\t0.7949299168697856\t8.581273268812671\n",
      "\n",
      "  \t7\t\t1.409960911440218\t5.842285782011866\n",
      "\n",
      "  \t8\t\t1.3162337042120573\t5.575923091879005\n",
      "\n",
      "  \t9\t\t1.4587324854381107\t6.3002367420100045\n",
      "\n",
      "  \t10\t\t1.353297478021682\t6.033578395453196\n",
      "\n",
      "  \t11\t\t1.2285355012968793\t6.089687396196665\n",
      "\n",
      "  \t12\t\t1.9586893598361181\t4.2633490663455325\n",
      "\n"
     ]
    }
   ],
   "source": [
    "print(f'Polynomial Regression (lambda = {lmbda})\\n\\n')\n",
    "print('# Training Examples\\tTrain Error\\tCross Validabbbtion Error\\n')\n",
    "for i in range(1, m+1):\n",
    "    print(f'  \\t{i}\\t\\t{train_error[i - 1]}\\t{val_error[i - 1]}\\n')\n",
    "    "
   ]
  },
  {
   "cell_type": "markdown",
   "metadata": {},
   "source": [
    "## Validation for Selecting Lambda"
   ]
  },
  {
   "cell_type": "code",
   "execution_count": 79,
   "metadata": {},
   "outputs": [],
   "source": [
    "def validationCurve(X, y, Xval, yval):\n",
    "    lambda_vec = [0, 0.001, 0.003, 0.01, 0.03, 0.1, 0.3, 1, 3, 10];\n",
    "    \n",
    "    train_error = np.zeros(len(lambda_vec))\n",
    "    val_error = np.zeros(len(lambda_vec))\n",
    "    \n",
    "    m = len(y)\n",
    "    val_m = len(yval)\n",
    "    \n",
    "    for i in range(len(lambda_vec)):\n",
    "        lmbda = lambda_vec[i]\n",
    "        theta = trainLinearReg(linearRegCostFunction, X, y, lmbda)\n",
    "        J_train =  1/(2 *m) * np.sum((X.dot(theta.reshape(len(theta),1)) - y.reshape(len(y),1)) ** 2)\n",
    "        J_val = 1/(2 * val_m) * np.sum((Xval.dot(theta.reshape(len(theta),1)) - yval.reshape(len(yval),1)) ** 2)\n",
    "        train_error[i] = J_train\n",
    "        val_error[i] = J_val\n",
    "    return lambda_vec, train_error, val_error\n",
    "    \n",
    "        "
   ]
  },
  {
   "cell_type": "code",
   "execution_count": 80,
   "metadata": {},
   "outputs": [
    {
     "name": "stdout",
     "output_type": "stream",
     "text": [
      "Optimization terminated successfully.\n",
      "         Current function value: 0.028902\n",
      "         Iterations: 1423\n",
      "         Function evaluations: 29392\n",
      "         Gradient evaluations: 2672\n",
      "Optimization terminated successfully.\n",
      "         Current function value: 0.169418\n",
      "         Iterations: 605\n",
      "         Function evaluations: 12540\n",
      "         Gradient evaluations: 1140\n",
      "Optimization terminated successfully.\n",
      "         Current function value: 0.243172\n",
      "         Iterations: 326\n",
      "         Function evaluations: 6809\n",
      "         Gradient evaluations: 619\n",
      "Optimization terminated successfully.\n",
      "         Current function value: 0.371282\n",
      "         Iterations: 223\n",
      "         Function evaluations: 4642\n",
      "         Gradient evaluations: 422\n",
      "Optimization terminated successfully.\n",
      "         Current function value: 0.636703\n",
      "         Iterations: 140\n",
      "         Function evaluations: 2761\n",
      "         Gradient evaluations: 251\n",
      "Optimization terminated successfully.\n",
      "         Current function value: 1.360572\n",
      "         Iterations: 94\n",
      "         Function evaluations: 1892\n",
      "         Gradient evaluations: 172\n",
      "Optimization terminated successfully.\n",
      "         Current function value: 2.917649\n",
      "         Iterations: 55\n",
      "         Function evaluations: 1067\n",
      "         Gradient evaluations: 97\n",
      "Optimization terminated successfully.\n",
      "         Current function value: 6.830463\n",
      "         Iterations: 38\n",
      "         Function evaluations: 781\n",
      "         Gradient evaluations: 71\n",
      "Optimization terminated successfully.\n",
      "         Current function value: 14.937646\n",
      "         Iterations: 19\n",
      "         Function evaluations: 363\n",
      "         Gradient evaluations: 33\n",
      "Optimization terminated successfully.\n",
      "         Current function value: 31.878154\n",
      "         Iterations: 16\n",
      "         Function evaluations: 297\n",
      "         Gradient evaluations: 27\n"
     ]
    },
    {
     "data": {
      "image/png": "[encoded data removed]",
      "text/plain": [
       "<Figure size 432x288 with 1 Axes>"
      ]
     },
     "metadata": {},
     "output_type": "display_data"
    }
   ],
   "source": [
    "lambda_vec, train_error, val_error = validationCurve(X_poly, y, Xval_poly, yval)\n",
    "\n",
    "plt.plot(lambda_vec, train_error, 'r',lambda_vec, val_error, 'b')\n",
    "plt.show()"
   ]
  },
  {
   "cell_type": "code",
   "execution_count": 81,
   "metadata": {},
   "outputs": [
    {
     "name": "stdout",
     "output_type": "stream",
     "text": [
      "# Lambda\tTrain Error\tCross Validabbbtion Error\n",
      "\n",
      "  \t0\t\t14.825787572234654\t8.889706979179818\n",
      "\n",
      "  \t0.001\t\t0.028902469233529036\t52.5421948339007\n",
      "\n",
      "  \t0.003\t\t0.10803304417992385\t9.371145178201937\n",
      "\n",
      "  \t0.01\t\t0.1667639112237762\t15.924664210141128\n",
      "\n",
      "  \t0.03\t\t0.2179809848098843\t17.150736146521048\n",
      "\n",
      "  \t0.1\t\t0.2751267822478283\t13.218125261327629\n",
      "\n",
      "  \t0.3\t\t0.43864910930879414\t7.926923105553456\n",
      "\n",
      "  \t1\t\t0.868169766538146\t4.760808359675385\n",
      "\n",
      "  \t3\t\t1.9586893598361181\t4.2633490663455325\n",
      "\n",
      "  \t10\t\t4.525107882142386\t3.83217402895953\n",
      "\n"
     ]
    }
   ],
   "source": [
    "print('# Lambda\\tTrain Error\\tCross Validabbbtion Error\\n')\n",
    "for i in range(len(lambda_vec)):\n",
    "    print(f'  \\t{lambda_vec[i]}\\t\\t{train_error[i - 1]}\\t{val_error[i - 1]}\\n')"
   ]
  },
  {
   "cell_type": "code",
   "execution_count": 83,
   "metadata": {},
   "outputs": [
    {
     "name": "stdout",
     "output_type": "stream",
     "text": [
      "Optimization terminated successfully.\n",
      "         Current function value: 14.937646\n",
      "         Iterations: 19\n",
      "         Function evaluations: 363\n",
      "         Gradient evaluations: 33\n"
     ]
    }
   ],
   "source": [
    "theta= trainLinearReg(linearRegCostFunction, X_poly, y, 3)"
   ]
  },
  {
   "cell_type": "code",
   "execution_count": 84,
   "metadata": {},
   "outputs": [
    {
     "data": {
      "text/plain": [
       "3.57201828497697"
      ]
     },
     "execution_count": 84,
     "metadata": {},
     "output_type": "execute_result"
    }
   ],
   "source": [
    "prob = Xtest_poly.dot(theta)\n",
    "J =  1/(2 * len(ytest)) * np.sum((Xtest_poly.dot(theta.reshape(len(theta),1)) - ytest.reshape(len(ytest),1)) ** 2)\n",
    "J"
   ]
  }
 ],
 "metadata": {
  "kernelspec": {
   "display_name": "Python 3",
   "language": "python",
   "name": "python3"
  },
  "language_info": {
   "codemirror_mode": {
    "name": "ipython",
    "version": 3
   },
   "file_extension": ".py",
   "mimetype": "text/x-python",
   "name": "python",
   "nbconvert_exporter": "python",
   "pygments_lexer": "ipython3",
   "version": "3.6.4"
  }
 },
 "nbformat": 4,
 "nbformat_minor": 2
}
