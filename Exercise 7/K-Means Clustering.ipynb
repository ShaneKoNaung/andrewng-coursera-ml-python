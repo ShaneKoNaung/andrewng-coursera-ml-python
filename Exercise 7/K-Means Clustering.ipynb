{
 "cells": [
  {
   "cell_type": "markdown",
   "metadata": {},
   "source": [
    "## K-Means Clustering"
   ]
  },
  {
   "cell_type": "markdown",
   "metadata": {},
   "source": [
    "### Find Closest Centroids"
   ]
  },
  {
   "cell_type": "code",
   "execution_count": 3,
   "metadata": {},
   "outputs": [],
   "source": [
    "import numpy as np\n",
    "from scipy.io import loadmat"
   ]
  },
  {
   "cell_type": "markdown",
   "metadata": {},
   "source": [
    "### Load dataset"
   ]
  },
  {
   "cell_type": "code",
   "execution_count": 7,
   "metadata": {},
   "outputs": [
    {
     "name": "stdout",
     "output_type": "stream",
     "text": [
      "Data : \n",
      " [[1.84207953 4.6075716 ]\n",
      " [5.65858312 4.79996405]\n",
      " [6.35257892 3.2908545 ]\n",
      " [2.90401653 4.61220411]\n",
      " [3.23197916 4.93989405]\n",
      " [1.24792268 4.93267846]\n",
      " [1.97619886 4.43489674]\n",
      " [2.23454135 5.05547168]\n",
      " [2.98340757 4.84046406]\n",
      " [2.97970391 4.80671081]]\n"
     ]
    }
   ],
   "source": [
    "data = loadmat(\"ex7data2.mat\")\n",
    "\n",
    "X = data['X']\n",
    "\n",
    "print(f'Data : \\n {X[:10,:]}')"
   ]
  },
  {
   "cell_type": "code",
   "execution_count": 22,
   "metadata": {},
   "outputs": [],
   "source": [
    "def findClosestCentroids(X, centroids):\n",
    "    \n",
    "    K = len(centroids)   # number of centroids\n",
    "    idx = np.zeros((len(X),1))\n",
    "    \n",
    "    for i in range(len(X)):\n",
    "        idx[i] = np.argmin(np.sum((X[i,:] - centroids) ** 2, 1))\n",
    "    \n",
    "    return idx"
   ]
  },
  {
   "cell_type": "code",
   "execution_count": 24,
   "metadata": {},
   "outputs": [
    {
     "name": "stdout",
     "output_type": "stream",
     "text": [
      "Closest centroids for the first 3 examples: \n",
      "\n",
      "[[0.]\n",
      " [2.]\n",
      " [1.]]\n",
      "\n",
      "(the closest centroids should be 0, 2, 1 respectively)\n",
      "\n"
     ]
    }
   ],
   "source": [
    "initial_centroids = np.asarray([[3,3], [6,2], [8,5]])\n",
    "\n",
    "idx = findClosestCentroids(X, initial_centroids)\n",
    "\n",
    "print('Closest centroids for the first 3 examples: \\n')\n",
    "print(f'{idx[:3]}')\n",
    "print('\\n(the closest centroids should be 0, 2, 1 respectively)\\n')"
   ]
  },
  {
   "cell_type": "markdown",
   "metadata": {},
   "source": [
    "### Compute Means"
   ]
  },
  {
   "cell_type": "code",
   "execution_count": 49,
   "metadata": {},
   "outputs": [],
   "source": [
    "def computeCentroids(X, idx, K):\n",
    "    \n",
    "    # return this\n",
    "    centroids = np.zeros((K,2))\n",
    "    n = X.shape[1]\n",
    "    \n",
    "    for i in range(K):\n",
    "        cluster_indices = np.where(idx==i)\n",
    "        cluster = X[cluster_indices[0]]\n",
    "        \n",
    "        centroids[i,:] = np.sum(cluster, 0)/cluster.shape[0]\n",
    "    \n",
    "    return centroids\n",
    "        \n",
    "        "
   ]
  },
  {
   "cell_type": "code",
   "execution_count": 50,
   "metadata": {},
   "outputs": [
    {
     "name": "stdout",
     "output_type": "stream",
     "text": [
      "\n",
      "Computing centroids means.\n",
      "\n",
      "\n",
      "Centroids computed after initial finding of closest centroids: \n",
      "\n",
      " [[2.42830111 3.15792418]\n",
      " [5.81350331 2.63365645]\n",
      " [7.11938687 3.6166844 ]] \n",
      "\n",
      "\n",
      "(the centroids should be\n",
      "\n",
      "   [ 2.428301 3.157924 ]\n",
      "\n",
      "   [ 5.813503 2.633656 ]\n",
      "\n",
      "   [ 7.119387 3.616684 ]\n",
      "\n",
      "\n"
     ]
    }
   ],
   "source": [
    "print('\\nComputing centroids means.\\n\\n')\n",
    "\n",
    "centroids = computeCentroids(X, idx, 3)\n",
    "\n",
    "print('Centroids computed after initial finding of closest centroids: \\n')\n",
    "print(f' {centroids} \\n')\n",
    "print('\\n(the centroids should be\\n')\n",
    "print('   [ 2.428301 3.157924 ]\\n')\n",
    "print('   [ 5.813503 2.633656 ]\\n')\n",
    "print('   [ 7.119387 3.616684 ]\\n\\n')"
   ]
  },
  {
   "cell_type": "code",
   "execution_count": null,
   "metadata": {},
   "outputs": [],
   "source": []
  },
  {
   "cell_type": "raw",
   "metadata": {},
   "source": []
  },
  {
   "cell_type": "code",
   "execution_count": null,
   "metadata": {},
   "outputs": [],
   "source": []
  }
 ],
 "metadata": {
  "kernelspec": {
   "display_name": "Python 3",
   "language": "python",
   "name": "python3"
  },
  "language_info": {
   "codemirror_mode": {
    "name": "ipython",
    "version": 3
   },
   "file_extension": ".py",
   "mimetype": "text/x-python",
   "name": "python",
   "nbconvert_exporter": "python",
   "pygments_lexer": "ipython3",
   "version": "3.6.4"
  }
 },
 "nbformat": 4,
 "nbformat_minor": 2
}
