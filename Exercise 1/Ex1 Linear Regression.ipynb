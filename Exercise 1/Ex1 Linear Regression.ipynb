{
 "cells": [
  {
   "cell_type": "markdown",
   "metadata": {},
   "source": [
    "# Machine Learning Online Class - Exercise 1: Linear Regression"
   ]
  },
  {
   "cell_type": "markdown",
   "metadata": {},
   "source": [
    "## Ex1"
   ]
  },
  {
   "cell_type": "markdown",
   "metadata": {},
   "source": [
    "## Warmup Exercise \n",
    "Instructions: Return the 5x5 identity matrix "
   ]
  },
  {
   "cell_type": "code",
   "execution_count": 1,
   "metadata": {},
   "outputs": [],
   "source": [
    "import numpy as np\n",
    "import pandas as pd\n",
    "import matplotlib.pyplot as plt"
   ]
  },
  {
   "cell_type": "code",
   "execution_count": 2,
   "metadata": {},
   "outputs": [
    {
     "data": {
      "text/plain": [
       "array([[1., 0., 0., 0., 0.],\n",
       "       [0., 1., 0., 0., 0.],\n",
       "       [0., 0., 1., 0., 0.],\n",
       "       [0., 0., 0., 1., 0.],\n",
       "       [0., 0., 0., 0., 1.]])"
      ]
     },
     "execution_count": 2,
     "metadata": {},
     "output_type": "execute_result"
    }
   ],
   "source": [
    "def warmupExercise():\n",
    "    return np.eye(5)\n",
    "\n",
    "warmupExercise()"
   ]
  },
  {
   "cell_type": "markdown",
   "metadata": {},
   "source": [
    "## Plotting"
   ]
  },
  {
   "cell_type": "code",
   "execution_count": 3,
   "metadata": {},
   "outputs": [
    {
     "name": "stdout",
     "output_type": "stream",
     "text": [
      "Training samples :\n",
      "(97, 1)\n",
      "[[6.1101]\n",
      " [5.5277]\n",
      " [8.5186]\n",
      " [7.0032]\n",
      " [5.8598]\n",
      " [8.3829]\n",
      " [7.4764]\n",
      " [8.5781]\n",
      " [6.4862]\n",
      " [5.0546]]\n",
      "\n",
      "Training targets\n",
      "(97, 1)\n",
      "[[6.1101]\n",
      " [5.5277]\n",
      " [8.5186]\n",
      " [7.0032]\n",
      " [5.8598]\n",
      " [8.3829]\n",
      " [7.4764]\n",
      " [8.5781]\n",
      " [6.4862]\n",
      " [5.0546]]\n",
      "\n"
     ]
    }
   ],
   "source": [
    "data = pd.read_csv('ex1data1.txt', names=['X','y'])\n",
    "X = data.X\n",
    "X = X.values.reshape((len(X),1))\n",
    "y = data.y\n",
    "y = y.values.reshape((len(y),1))\n",
    "\n",
    "# data shape and sample\n",
    "print('Training samples :')\n",
    "print(f'{X.shape}')\n",
    "print(f'{X[:10,:]}')\n",
    "print()\n",
    "print('Training targets')\n",
    "print(f'{y.shape}')\n",
    "print(f'{X[:10,:]}')\n",
    "print()"
   ]
  },
  {
   "cell_type": "code",
   "execution_count": 4,
   "metadata": {},
   "outputs": [
    {
     "data": {
      "image/png": "[encoded data removed]",
      "text/plain": [
       "<Figure size 432x288 with 1 Axes>"
      ]
     },
     "metadata": {},
     "output_type": "display_data"
    }
   ],
   "source": [
    "plt.scatter(data.X, data.y, c='red', edgecolor='blue')\n",
    "plt.ylabel('Profit in $10,000s');\n",
    "plt.xlabel('Population of City in 10,000s');\n",
    "plt.show()"
   ]
  },
  {
   "cell_type": "code",
   "execution_count": 5,
   "metadata": {},
   "outputs": [
    {
     "name": "stdout",
     "output_type": "stream",
     "text": [
      "augumented X : \n",
      " [[1.     6.1101]\n",
      " [1.     5.5277]\n",
      " [1.     8.5186]\n",
      " [1.     7.0032]\n",
      " [1.     5.8598]\n",
      " [1.     8.3829]\n",
      " [1.     7.4764]\n",
      " [1.     8.5781]\n",
      " [1.     6.4862]\n",
      " [1.     5.0546]]\n"
     ]
    }
   ],
   "source": [
    "X = np.append(np.ones((len(X),1)), X, axis=1)\n",
    "print(f'augumented X : \\n {X[:10,:]}')"
   ]
  },
  {
   "cell_type": "markdown",
   "metadata": {},
   "source": [
    "## Cost Function and Gradient Descent "
   ]
  },
  {
   "cell_type": "code",
   "execution_count": 6,
   "metadata": {},
   "outputs": [],
   "source": [
    "def computeCost(X, y, theta):\n",
    "    m = len(X)\n",
    "    J = (1/(2 * m)) * np.sum((X.dot(theta) - y) ** 2)\n",
    "    return J"
   ]
  },
  {
   "cell_type": "code",
   "execution_count": 7,
   "metadata": {},
   "outputs": [
    {
     "name": "stdout",
     "output_type": "stream",
     "text": [
      "Testing the cost function ...\n",
      "\n",
      "With theta = [0 ; 0]\n",
      "Cost computed = 32.072733877455676\n",
      "Expected cost value (approx) 32.07\n",
      "\n",
      "\n",
      "With theta = [-1 ; 2]\n",
      "Cost computed = 54.24245508201238\n",
      "Expected cost value (approx) 54.24\n",
      "\n"
     ]
    }
   ],
   "source": [
    "theta = np.zeros((2,1))\n",
    "\n",
    "# some gradient descent setting \n",
    "alpha = 0.01\n",
    "iterations = 1500\n",
    "\n",
    "print(\"Testing the cost function ...\\n\")\n",
    "\n",
    "J = computeCost(X, y, theta)\n",
    "print(f'With theta = [0 ; 0]\\nCost computed = {J}')\n",
    "print('Expected cost value (approx) 32.07\\n');\n",
    "\n",
    "J = computeCost(X, y, np.array([[-1],[2]]));\n",
    "print(f'\\nWith theta = [-1 ; 2]\\nCost computed = {J}');\n",
    "print('Expected cost value (approx) 54.24\\n');"
   ]
  },
  {
   "cell_type": "code",
   "execution_count": 8,
   "metadata": {},
   "outputs": [],
   "source": [
    "def gradientDescent(X, y, theta, alpha, iterations):\n",
    "    m = len(X)\n",
    "    J_history = np.zeros((iterations,1))\n",
    "\n",
    "    for i in range(iterations):\n",
    "\n",
    "        theta = theta - (alpha/m) * np.sum((X.dot(theta) - y) * X, axis=0).reshape(np.shape(theta))\n",
    "\n",
    "        J_history[i] = computeCost(X,y,theta)\n",
    "\n",
    "    return (theta, J_history)"
   ]
  },
  {
   "cell_type": "code",
   "execution_count": 9,
   "metadata": {},
   "outputs": [
    {
     "name": "stdout",
     "output_type": "stream",
     "text": [
      "\n",
      "Running Gradient Descent ...\n",
      "\n",
      "Theta found by gradient descent:\n",
      "\n",
      "[[-3.63029144]\n",
      " [ 1.16636235]]\n",
      "Expected theta values (approx)\n",
      "\n",
      " -3.6303\n",
      "  1.1664\n",
      "\n",
      "\n"
     ]
    }
   ],
   "source": [
    "print('\\nRunning Gradient Descent ...\\n')\n",
    "\n",
    "(theta, J_history) = gradientDescent(X, y, theta, alpha, iterations);\n",
    "\n",
    "print('Theta found by gradient descent:\\n');\n",
    "print(f'{theta}');\n",
    "print('Expected theta values (approx)\\n');\n",
    "print(' -3.6303\\n  1.1664\\n\\n');"
   ]
  },
  {
   "cell_type": "markdown",
   "metadata": {},
   "source": [
    "## Plotting the linear fit"
   ]
  },
  {
   "cell_type": "code",
   "execution_count": 10,
   "metadata": {},
   "outputs": [
    {
     "data": {
      "image/png": "[encoded data removed]",
      "text/plain": [
       "<Figure size 432x288 with 1 Axes>"
      ]
     },
     "metadata": {},
     "output_type": "display_data"
    }
   ],
   "source": [
    "plt.scatter(data.X, data.y, c='red', edgecolor='blue')\n",
    "plt.ylabel('Profit in $10,000s');\n",
    "plt.xlabel('Population of City in 10,000s');\n",
    "plt.plot(X[:,1],X.dot(theta).reshape(len(X),))\n",
    "plt.show()"
   ]
  },
  {
   "cell_type": "code",
   "execution_count": 11,
   "metadata": {},
   "outputs": [
    {
     "name": "stdout",
     "output_type": "stream",
     "text": [
      "For population = 35,000, we predict a profit of [4519.7678677]\n",
      "For population = 70,000, we predict a profit of [45342.45012945]\n"
     ]
    }
   ],
   "source": [
    "# Predict values for population sizes of 35,000 and 70,000\n",
    "predict1 = np.dot(np.array([1, 3.5]),theta);\n",
    "print(f'For population = 35,000, we predict a profit of {predict1*10000}');\n",
    "predict2 = np.dot(np.array([1, 7]) ,theta);\n",
    "print(f'For population = 70,000, we predict a profit of {predict2*10000}');"
   ]
  },
  {
   "cell_type": "markdown",
   "metadata": {},
   "source": [
    "## Ex1_multi"
   ]
  },
  {
   "cell_type": "code",
   "execution_count": 12,
   "metadata": {},
   "outputs": [
    {
     "name": "stdout",
     "output_type": "stream",
     "text": [
      "Training samples : \n",
      "[[2104    3]\n",
      " [1600    3]\n",
      " [2400    3]\n",
      " [1416    2]\n",
      " [3000    4]\n",
      " [1985    4]\n",
      " [1534    3]\n",
      " [1427    3]\n",
      " [1380    3]\n",
      " [1494    3]]\n",
      "\n",
      "Target samples : \n",
      "[[399900]\n",
      " [329900]\n",
      " [369000]\n",
      " [232000]\n",
      " [539900]\n",
      " [299900]\n",
      " [314900]\n",
      " [198999]\n",
      " [212000]\n",
      " [242500]]\n",
      "\n"
     ]
    }
   ],
   "source": [
    "# load dataset\n",
    "data = pd.read_csv('ex1data2.txt', names=['Size','NoOfBr','Price'])\n",
    "X = data.values[:, :2]\n",
    "y = data.values[:, 2].reshape(len(X),1)\n",
    "m = len(X)\n",
    "\n",
    "print(f'Training samples : \\n{X[:10,:]}')\n",
    "print(f'\\nTarget samples : \\n{y[:10,:]}\\n')"
   ]
  },
  {
   "cell_type": "markdown",
   "metadata": {},
   "source": [
    "## Feature Normalization"
   ]
  },
  {
   "cell_type": "code",
   "execution_count": 13,
   "metadata": {},
   "outputs": [],
   "source": [
    "def featureNormalize(X):\n",
    "    X_norm = X.astype('float64')\n",
    "    X_norm -= np.mean(X_norm)\n",
    "    X_norm /= np.std(X_norm)\n",
    "    return X_norm"
   ]
  },
  {
   "cell_type": "code",
   "execution_count": 14,
   "metadata": {},
   "outputs": [
    {
     "name": "stdout",
     "output_type": "stream",
     "text": [
      "Normalizing Features ...\n",
      "\n",
      "Augmented and normalized X norm : \n",
      "[[ 1.          0.96415008 -0.87391021]\n",
      " [ 1.          0.52322557 -0.87391021]\n",
      " [ 1.          1.22310574 -0.87391021]\n",
      " [ 1.          0.36225314 -0.87478506]\n",
      " [ 1.          1.74801587 -0.87303536]\n",
      " [ 1.          0.86004291 -0.87303536]\n",
      " [ 1.          0.46548546 -0.87391021]\n",
      " [ 1.          0.37187649 -0.87391021]\n",
      " [ 1.          0.33075853 -0.87391021]\n",
      " [ 1.          0.43049145 -0.87391021]]\n"
     ]
    }
   ],
   "source": [
    "print('Normalizing Features ...\\n')\n",
    "X_norm = featureNormalize(X)\n",
    "\n",
    "X_norm = np.append(np.ones((len(X_norm),1)), X_norm, axis=1)\n",
    "print(f'Augmented and normalized X norm : \\n{X_norm[:10, :]}')"
   ]
  },
  {
   "cell_type": "code",
   "execution_count": 15,
   "metadata": {},
   "outputs": [
    {
     "name": "stdout",
     "output_type": "stream",
     "text": [
      "Running Gradient Descent ...\n",
      "\n",
      "Theta computed from gradient descent: \n",
      "\n",
      "[[ 119999.41363909]\n",
      " [ 148539.68555667]\n",
      " [-104839.19814394]]\n",
      "\n",
      "\n"
     ]
    }
   ],
   "source": [
    "print('Running Gradient Descent ...\\n')\n",
    "\n",
    "alpha = 0.01\n",
    "num_iters = 400\n",
    "\n",
    "theta = np.zeros((3,1))\n",
    "(theta, J_history) = gradientDescent(X_norm, y, theta, alpha, num_iters)\n",
    "\n",
    "print('Theta computed from gradient descent: \\n');\n",
    "print(f'{theta}');\n",
    "print('\\n');"
   ]
  },
  {
   "cell_type": "code",
   "execution_count": 16,
   "metadata": {},
   "outputs": [
    {
     "name": "stdout",
     "output_type": "stream",
     "text": [
      "Predicted price of a 1650 sq-ft, 3 br house (using gradient descent): [[2.44895963e+08]]\n"
     ]
    }
   ],
   "source": [
    "price = np.dot(np.array([[1 ,1650, 3]]),theta)\n",
    "print(f'Predicted price of a 1650 sq-ft, 3 br house (using gradient descent): {price}')"
   ]
  },
  {
   "cell_type": "markdown",
   "metadata": {},
   "source": [
    "## Normal Equation"
   ]
  },
  {
   "cell_type": "code",
   "execution_count": 17,
   "metadata": {},
   "outputs": [],
   "source": [
    "def normalEq(X, y):\n",
    "    theta = np.dot(X.transpose(), y)\n",
    "    theta = np.dot(np.linalg.inv(np.dot(X.transpose(),X)),theta)\n",
    "    return theta"
   ]
  },
  {
   "cell_type": "code",
   "execution_count": 18,
   "metadata": {},
   "outputs": [
    {
     "name": "stdout",
     "output_type": "stream",
     "text": [
      "Using normal equation ...\n",
      "\n",
      "theta using normal equation : \n",
      " [[89597.9095428 ]\n",
      " [  139.21067402]\n",
      " [-8738.01911233]]\n",
      "\n",
      "Predicted price of a 1650 sq-ft, 3 br house (using normal equations):\n",
      "  [[293081.46433489]]\n"
     ]
    }
   ],
   "source": [
    "print('Using normal equation ...\\n')\n",
    "\n",
    "X_aug = np.append(np.ones((len(X),1)), X, axis=1)\n",
    "theta = normalEq(X_aug, y)\n",
    "print(f'theta using normal equation : \\n {theta}\\n')\n",
    "\n",
    "price = np.dot(np.array([[1, 1650, 3]]), theta)\n",
    "\n",
    "print(f'Predicted price of a 1650 sq-ft, 3 br house (using normal equations):\\n  {price}')"
   ]
  },
  {
   "cell_type": "code",
   "execution_count": null,
   "metadata": {},
   "outputs": [],
   "source": []
  }
 ],
 "metadata": {
  "kernelspec": {
   "display_name": "Python 3",
   "language": "python",
   "name": "python3"
  },
  "language_info": {
   "codemirror_mode": {
    "name": "ipython",
    "version": 3
   },
   "file_extension": ".py",
   "mimetype": "text/x-python",
   "name": "python",
   "nbconvert_exporter": "python",
   "pygments_lexer": "ipython3",
   "version": "3.6.4"
  }
 },
 "nbformat": 4,
 "nbformat_minor": 2
}
