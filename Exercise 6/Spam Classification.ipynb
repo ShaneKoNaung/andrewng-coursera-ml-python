{
 "cells": [
  {
   "cell_type": "markdown",
   "metadata": {},
   "source": [
    "## Spam Classification"
   ]
  },
  {
   "cell_type": "markdown",
   "metadata": {},
   "source": [
    "The dataset included for this exercise is based on a a subset of\n",
    "[the SpamAssassin Public Corpus](http://spamassassin.apache.org/old/publiccorpus/)."
   ]
  },
  {
   "cell_type": "code",
   "execution_count": 48,
   "metadata": {},
   "outputs": [],
   "source": [
    "import numpy as np\n",
    "import matplotlib.pyplot as plt\n",
    "import pandas as pd\n",
    "import os\n",
    "import re\n",
    "import nltk, nltk.stem.porter"
   ]
  },
  {
   "cell_type": "markdown",
   "metadata": {},
   "source": [
    "### Preprocessing Emails"
   ]
  },
  {
   "cell_type": "code",
   "execution_count": 5,
   "metadata": {},
   "outputs": [
    {
     "name": "stdout",
     "output_type": "stream",
     "text": [
      "['Spam Classification.ipynb', 'vocab.txt', 'ex6data1.mat', 'ex6.pdf', 'Ex 6 Support Vector Machines.ipynb', 'spamSample2.txt', 'spamSample1.txt', 'spamTest.mat', 'emailSample2.txt', 'emailSample1.txt', 'ex6data3.mat', '.ipynb_checkpoints', 'spamTrain.mat', 'ex6data2.mat']\n"
     ]
    }
   ],
   "source": [
    "print(os.listdir('../Exercise 6'))"
   ]
  },
  {
   "cell_type": "code",
   "execution_count": 9,
   "metadata": {},
   "outputs": [
    {
     "name": "stdout",
     "output_type": "stream",
     "text": [
      "> Anyone knows how much it costs to host a web portal ?\n",
      ">\n",
      "Well, it depends on how many visitors you're expecting.\n",
      "This can be anywhere from less than 10 bucks a month to a couple of $100. \n",
      "You should checkout http://www.rackspace.com/ or perhaps Amazon EC2 \n",
      "if youre running something big..\n",
      "\n",
      "To unsubscribe yourself from this mailing list, send an email to:\n",
      "groupname-unsubscribe@egroups.com\n",
      "\n",
      "\n"
     ]
    }
   ],
   "source": [
    "emailSample1 = open('../Exercise 6/emailSample1.txt', 'r')\n",
    "file_content = emailSample1.read()\n",
    "print(file_content)\n"
   ]
  },
  {
   "cell_type": "code",
   "execution_count": 23,
   "metadata": {},
   "outputs": [],
   "source": [
    "def getVocabList():\n",
    "    vocabList = {}\n",
    "    with open('../Exercise 6/vocab.txt') as file:\n",
    "        for line in file:\n",
    "            (index, word) = line.split()\n",
    "            vocabList[word] = index\n",
    "    return vocabList"
   ]
  },
  {
   "cell_type": "code",
   "execution_count": 54,
   "metadata": {},
   "outputs": [],
   "source": [
    "def processEmail(file_content):\n",
    "\n",
    "    # load vocabList\n",
    "    vocabList = getVocabList()\n",
    "    \n",
    "    # lower casing\n",
    "    file_content = file_content.lower()\n",
    "    \n",
    "    # Stripping Html\n",
    "    file_content = re.compile('<[^<>]+>').sub(' ', file_content)\n",
    "    \n",
    "    # Normalizing URLs : All URLs are replaced with the text “httpaddr”.\n",
    "    file_content = re.compile('(http|https)://(\\S)*').sub('httpaddr', file_content)\n",
    "    \n",
    "    # Normalizing Email Addresses: with the text “emailaddr”.\n",
    "    file_content = re.compile('\\S*(.com)').sub('emailaddr', file_content)\n",
    "    \n",
    "    # Normalizing Numbers: “number”\n",
    "    file_content = re.compile('[0-9]+').sub('number', file_content)\n",
    "    \n",
    "    # Normalizing Dollars: All dollar signs ($) are replaced with the text “dollar”.\n",
    "    file_content = re.compile('[$]+').sub('dollar', file_content)\n",
    "    \n",
    "    # get rid of any punctuation\n",
    "    file_content = re.split('[ @$/#.-:&*+=\\[\\]?!(){},''\">_<;%\\n\\r]', file_content)\n",
    "    \n",
    "    # removal of non-words\n",
    "    file_content = [word for word in file_content if len(word) > 1]\n",
    "    \n",
    "    tokenlist = []\n",
    "    \n",
    "    stemmer = nltk.stem.porter.PorterStemmer()\n",
    "    \n",
    "    for token in file_content:\n",
    "      \n",
    "        token = re.sub('[^a-zA-Z0-9]', '', token);\n",
    "        stemmed = stemmer.stem( token )\n",
    "        #Throw out empty tokens\n",
    "        if not len(token): \n",
    "            continue\n",
    "        #Store a list of all unique stemmed words\n",
    "        tokenlist.append(stemmed)\n",
    "    \n",
    "    word_indices = []\n",
    "    for token in tokenlist:\n",
    "        word_indices.append()"
   ]
  },
  {
   "cell_type": "code",
   "execution_count": 55,
   "metadata": {},
   "outputs": [
    {
     "data": {
      "text/plain": [
       "['anyon',\n",
       " 'know',\n",
       " 'how',\n",
       " 'much',\n",
       " 'it',\n",
       " 'cost',\n",
       " 'to',\n",
       " 'host',\n",
       " 'web',\n",
       " 'portal',\n",
       " 'well',\n",
       " 'it',\n",
       " 'depend',\n",
       " 'on',\n",
       " 'how',\n",
       " 'mani',\n",
       " 'visitor',\n",
       " 'your',\n",
       " 'expect',\n",
       " 'thi',\n",
       " 'can',\n",
       " 'be',\n",
       " 'anywher',\n",
       " 'from',\n",
       " 'less',\n",
       " 'than',\n",
       " 'number',\n",
       " 'buck',\n",
       " 'month',\n",
       " 'to',\n",
       " 'coupl',\n",
       " 'of',\n",
       " 'dollarnumb',\n",
       " 'you',\n",
       " 'should',\n",
       " 'checkout',\n",
       " 'httpaddr',\n",
       " 'or',\n",
       " 'perhap',\n",
       " 'amazon',\n",
       " 'ecnumb',\n",
       " 'if',\n",
       " 'your',\n",
       " 'run',\n",
       " 'someth',\n",
       " 'big',\n",
       " 'to',\n",
       " 'unsubscrib',\n",
       " 'yourself',\n",
       " 'from',\n",
       " 'thi',\n",
       " 'mail',\n",
       " 'list',\n",
       " 'send',\n",
       " 'an',\n",
       " 'email',\n",
       " 'to',\n",
       " 'emailaddr']"
      ]
     },
     "execution_count": 55,
     "metadata": {},
     "output_type": "execute_result"
    }
   ],
   "source": [
    "processEmail(file_content)"
   ]
  },
  {
   "cell_type": "code",
   "execution_count": null,
   "metadata": {},
   "outputs": [],
   "source": []
  }
 ],
 "metadata": {
  "kernelspec": {
   "display_name": "Python 3",
   "language": "python",
   "name": "python3"
  },
  "language_info": {
   "codemirror_mode": {
    "name": "ipython",
    "version": 3
   },
   "file_extension": ".py",
   "mimetype": "text/x-python",
   "name": "python",
   "nbconvert_exporter": "python",
   "pygments_lexer": "ipython3",
   "version": "3.6.4"
  }
 },
 "nbformat": 4,
 "nbformat_minor": 2
}
