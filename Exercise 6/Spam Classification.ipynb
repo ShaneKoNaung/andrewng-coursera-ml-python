{
 "cells": [
  {
   "cell_type": "markdown",
   "metadata": {},
   "source": [
    "## Spam Classification"
   ]
  },
  {
   "cell_type": "markdown",
   "metadata": {},
   "source": [
    "The dataset included for this exercise is based on a a subset of\n",
    "[the SpamAssassin Public Corpus](http://spamassassin.apache.org/old/publiccorpus/)."
   ]
  },
  {
   "cell_type": "code",
   "execution_count": 48,
   "metadata": {},
   "outputs": [],
   "source": [
    "import numpy as np\n",
    "import matplotlib.pyplot as plt\n",
    "import pandas as pd\n",
    "import os\n",
    "import re\n",
    "import nltk, nltk.stem.porter"
   ]
  },
  {
   "cell_type": "markdown",
   "metadata": {},
   "source": [
    "### Preprocessing Emails"
   ]
  },
  {
   "cell_type": "code",
   "execution_count": 5,
   "metadata": {},
   "outputs": [
    {
     "name": "stdout",
     "output_type": "stream",
     "text": [
      "['Spam Classification.ipynb', 'vocab.txt', 'ex6data1.mat', 'ex6.pdf', 'Ex 6 Support Vector Machines.ipynb', 'spamSample2.txt', 'spamSample1.txt', 'spamTest.mat', 'emailSample2.txt', 'emailSample1.txt', 'ex6data3.mat', '.ipynb_checkpoints', 'spamTrain.mat', 'ex6data2.mat']\n"
     ]
    }
   ],
   "source": [
    "print(os.listdir('../Exercise 6'))"
   ]
  },
  {
   "cell_type": "code",
   "execution_count": 72,
   "metadata": {},
   "outputs": [],
   "source": [
    "def getVocabList():\n",
    "    vocabList = {}\n",
    "    with open('../Exercise 6/vocab.txt') as file:\n",
    "        for line in file:\n",
    "            (index, word) = line.split()\n",
    "            vocabList[word] = int(index)\n",
    "    return vocabList"
   ]
  },
  {
   "cell_type": "code",
   "execution_count": 73,
   "metadata": {},
   "outputs": [],
   "source": [
    "def processEmail(file_content):\n",
    "\n",
    "    # load vocabList\n",
    "    vocabList = getVocabList()\n",
    "    \n",
    "    # lower casing\n",
    "    file_content = file_content.lower()\n",
    "    \n",
    "    # Stripping Html\n",
    "    file_content = re.compile('<[^<>]+>').sub(' ', file_content)\n",
    "    \n",
    "    # Normalizing URLs : All URLs are replaced with the text “httpaddr”.\n",
    "    file_content = re.compile('(http|https)://(\\S)*').sub('httpaddr', file_content)\n",
    "    \n",
    "    # Normalizing Email Addresses: with the text “emailaddr”.\n",
    "    file_content = re.compile('\\S*(.com)').sub('emailaddr', file_content)\n",
    "    \n",
    "    # Normalizing Numbers: “number”\n",
    "    file_content = re.compile('[0-9]+').sub('number', file_content)\n",
    "    \n",
    "    # Normalizing Dollars: All dollar signs ($) are replaced with the text “dollar”.\n",
    "    file_content = re.compile('[$]+').sub('dollar', file_content)\n",
    "    \n",
    "    # get rid of any punctuation\n",
    "    file_content = re.split('[ @$/#.-:&*+=\\[\\]?!(){},''\">_<;%\\n\\r]', file_content)\n",
    "    \n",
    "    # removal of non-words\n",
    "    file_content = [word for word in file_content if len(word) > 1]\n",
    "    \n",
    "    tokenlist = []\n",
    "    \n",
    "    stemmer = nltk.stem.porter.PorterStemmer()\n",
    "    \n",
    "    for token in file_content:\n",
    "      \n",
    "        token = re.sub('[^a-zA-Z0-9]', '', token);\n",
    "        stemmed = stemmer.stem( token )\n",
    "        #Throw out empty tokens\n",
    "        if not len(token): \n",
    "            continue\n",
    "        #Store a list of all unique stemmed words\n",
    "        tokenlist.append(stemmed)\n",
    "    \n",
    "    word_indices = []\n",
    "    for token in tokenlist:\n",
    "        if vocabList.get(token) is not None:\n",
    "            word_indices.append(vocabList.get(token))\n",
    "        \n",
    "    return word_indices"
   ]
  },
  {
   "cell_type": "code",
   "execution_count": 74,
   "metadata": {},
   "outputs": [
    {
     "name": "stdout",
     "output_type": "stream",
     "text": [
      "> Anyone knows how much it costs to host a web portal ?\n",
      ">\n",
      "Well, it depends on how many visitors you're expecting.\n",
      "This can be anywhere from less than 10 bucks a month to a couple of $100. \n",
      "You should checkout http://www.rackspace.com/ or perhaps Amazon EC2 \n",
      "if youre running something big..\n",
      "\n",
      "To unsubscribe yourself from this mailing list, send an email to:\n",
      "groupname-unsubscribe@egroups.com\n",
      "\n",
      "\n",
      "[86, 916, 794, 1077, 883, 370, 1699, 790, 1822, 1831, 883, 431, 1171, 794, 1002, 1895, 592, 1676, 238, 162, 89, 688, 945, 1663, 1120, 1062, 1699, 375, 1162, 479, 1893, 1510, 799, 1182, 1237, 810, 1895, 1440, 1547, 181, 1699, 1758, 1896, 688, 1676, 992, 961, 1477, 71, 530, 1699, 531]\n"
     ]
    }
   ],
   "source": [
    "emailSample1 = open('../Exercise 6/emailSample1.txt', 'r')\n",
    "file_content = emailSample1.read()\n",
    "print(file_content)\n",
    "\n",
    "email1 = processEmail(file_content)\n",
    "print(email1)\n",
    "emailSample1.close()"
   ]
  },
  {
   "cell_type": "code",
   "execution_count": 75,
   "metadata": {},
   "outputs": [
    {
     "name": "stdout",
     "output_type": "stream",
     "text": [
      "Folks,\n",
      " \n",
      "my first time posting - have a bit of Unix experience, but am new to Linux.\n",
      "\n",
      " \n",
      "Just got a new PC at home - Dell box with Windows XP. Added a second hard disk\n",
      "for Linux. Partitioned the disk and have installed Suse 7.2 from CD, which went\n",
      "fine except it didn't pick up my monitor.\n",
      " \n",
      "I have a Dell branded E151FPp 15\" LCD flat panel monitor and a nVidia GeForce4\n",
      "Ti4200 video card, both of which are probably too new to feature in Suse's default\n",
      "set. I downloaded a driver from the nVidia website and installed it using RPM.\n",
      "Then I ran Sax2 (as was recommended in some postings I found on the net), but\n",
      "it still doesn't feature my video card in the available list. What next?\n",
      " \n",
      "Another problem. I have a Dell branded keyboard and if I hit Caps-Lock twice,\n",
      "the whole machine crashes (in Linux, not Windows) - even the on/off switch is\n",
      "inactive, leaving me to reach for the power cable instead.\n",
      " \n",
      "If anyone can help me in any way with these probs., I'd be really grateful -\n",
      "I've searched the 'net but have run out of ideas.\n",
      " \n",
      "Or should I be going for a different version of Linux such as RedHat? Opinions\n",
      "welcome.\n",
      " \n",
      "Thanks a lot,\n",
      "Peter\n",
      "\n",
      "-- \n",
      "Irish Linux Users' Group: ilug@linux.ie\n",
      "http://www.linux.ie/mailman/listinfo/ilug for (un)subscription information.\n",
      "List maintainer: listmaster@linux.ie\n",
      "\n",
      "\n",
      "\n",
      "[662, 1084, 652, 1694, 1280, 756, 186, 1162, 1752, 594, 225, 64, 1099, 1699, 960, 902, 726, 1099, 1228, 124, 787, 427, 208, 1860, 1855, 1885, 21, 1464, 752, 464, 666, 960, 1217, 1666, 464, 74, 756, 847, 1627, 1120, 1120, 688, 259, 1840, 1832, 647, 583, 883, 1249, 1760, 1084, 1061, 756, 427, 210, 1120, 1208, 1061, 74, 1792, 246, 204, 1162, 1840, 1308, 1708, 1099, 1699, 626, 825, 1627, 417, 1494, 487, 492, 688, 1666, 1824, 74, 847, 883, 1437, 1671, 116, 1803, 825, 1545, 1280, 677, 1171, 1666, 1095, 225, 883, 1590, 626, 1084, 1792, 246, 825, 1666, 139, 961, 1835, 1101, 80, 1309, 756, 427, 210, 909, 74, 810, 785, 1666, 1845, 988, 380, 825, 960, 1113, 1855, 571, 1666, 1171, 1163, 1630, 877, 940, 1018, 1699, 1365, 666, 1666, 1284, 230, 850, 810, 86, 238, 771, 1018, 825, 75, 1860, 1675, 804, 162, 1371, 1462, 1666, 1095, 225, 756, 1440, 1192, 1162, 805, 1182, 1510, 162, 718, 666, 452, 1790, 1162, 960, 1613, 116, 1379, 1177, 531, 1664, 980, 876, 960, 1773, 735, 960, 809, 799, 666, 1744, 1610, 840, 961, 995, 960, 809]\n"
     ]
    }
   ],
   "source": [
    "emailSample2 = open('../Exercise 6/emailSample2.txt', 'r')\n",
    "file_content = emailSample2.read()\n",
    "print(file_content)\n",
    "\n",
    "email2 = processEmail(file_content)\n",
    "print(email2)\n",
    "emailSample2.close()"
   ]
  },
  {
   "cell_type": "code",
   "execution_count": 76,
   "metadata": {},
   "outputs": [
    {
     "name": "stdout",
     "output_type": "stream",
     "text": [
      "Do You Want To Make $1000 Or More Per Week?\n",
      "\n",
      " \n",
      "\n",
      "If you are a motivated and qualified individual - I \n",
      "will personally demonstrate to you a system that will \n",
      "make you $1,000 per week or more! This is NOT mlm.\n",
      "\n",
      " \n",
      "\n",
      "Call our 24 hour pre-recorded number to get the \n",
      "details.  \n",
      "\n",
      " \n",
      "\n",
      "000-456-789\n",
      "\n",
      " \n",
      "\n",
      "I need people who want to make serious money.  Make \n",
      "the call and get the facts. \n",
      "\n",
      "Invest 2 minutes in yourself now!\n",
      "\n",
      " \n",
      "\n",
      "000-456-789\n",
      "\n",
      " \n",
      "\n",
      "Looking forward to your call and I will introduce you \n",
      "to people like yourself who\n",
      "are currently making $10,000 plus per week!\n",
      "\n",
      " \n",
      "\n",
      "000-456-789\n",
      "\n",
      "\n",
      "\n",
      "3484lJGv6-241lEaN9080lRmS6-271WxHo7524qiyT5-438rjUv5615hQcf0-662eiDB9057dMtVl72\n",
      "\n",
      "\n",
      "[471, 1893, 1809, 1699, 997, 479, 1182, 1064, 1231, 1827, 810, 1893, 1070, 74, 1346, 837, 1852, 1242, 1699, 1893, 1631, 1665, 1852, 997, 1893, 479, 1120, 1231, 1827, 1182, 1064, 1676, 877, 1113, 234, 1191, 1120, 792, 1120, 1699, 708, 1666, 440, 1093, 1230, 1844, 1809, 1699, 997, 1490, 997, 1666, 234, 74, 708, 1666, 608, 869, 1120, 1048, 825, 1896, 1117, 976, 676, 1699, 1895, 234, 74, 1852, 867, 1893, 1699, 1230, 956, 1896, 1844, 387, 997, 479, 1120, 1265, 1231, 1827]\n"
     ]
    }
   ],
   "source": [
    "spamSample1 = open('../Exercise 6/spamSample1.txt', 'r')\n",
    "file_content = spamSample1.read()\n",
    "print(file_content)\n",
    "\n",
    "spam1 = processEmail(file_content)\n",
    "print(spam1)\n",
    "spamSample1.close()"
   ]
  },
  {
   "cell_type": "code",
   "execution_count": 77,
   "metadata": {},
   "outputs": [
    {
     "name": "stdout",
     "output_type": "stream",
     "text": [
      "Best Buy Viagra Generic Online\n",
      "\n",
      "Viagra 100mg x 60 Pills $125, Free Pills & Reorder Discount, Top Selling 100% Quality & Satisfaction guaranteed!\n",
      "\n",
      "We accept VISA, Master & E-Check Payments, 90000+ Satisfied Customers!\n",
      "http://medphysitcstech.ru\n",
      "\n",
      "\n",
      "\n",
      "[176, 707, 1174, 1120, 479, 681, 460, 1711, 1475, 1120, 1347, 739, 1819, 10, 1795, 1012, 1227, 1120, 388, 799]\n"
     ]
    }
   ],
   "source": [
    "spamSample2 = open('../Exercise 6/spamSample2.txt', 'r')\n",
    "file_content = spamSample2.read()\n",
    "print(file_content)\n",
    "\n",
    "spam2 = processEmail(file_content)\n",
    "print(spam2)\n",
    "spamSample2.close()"
   ]
  },
  {
   "cell_type": "markdown",
   "metadata": {},
   "source": [
    "### Feature Extraction\n",
    "convert the word indices into vectors"
   ]
  },
  {
   "cell_type": "code",
   "execution_count": 82,
   "metadata": {},
   "outputs": [],
   "source": [
    "def emailFeatures(word_indices):\n",
    "    \n",
    "    n = 1899 # num of words in vocablist\n",
    "    \n",
    "    email_vector = np.zeros((n,1))\n",
    "    \n",
    "    for i in word_indices:\n",
    "        email_vector[i,0] = 1\n",
    "    \n",
    "    return email_vector"
   ]
  },
  {
   "cell_type": "code",
   "execution_count": 87,
   "metadata": {},
   "outputs": [
    {
     "name": "stdout",
     "output_type": "stream",
     "text": [
      "Length of feature vector : 1899\n",
      "Number of non zero entries : 44\n"
     ]
    }
   ],
   "source": [
    "email1_features = emailFeatures(email1)\n",
    "\n",
    "print(f'Length of feature vector : {len(email1_features)}')\n",
    "print(f'Number of non zero entries : {np.sum(email1_features == 1)}')"
   ]
  },
  {
   "cell_type": "markdown",
   "metadata": {},
   "source": [
    "### Train Linear SVM for Spam Classification"
   ]
  },
  {
   "cell_type": "code",
   "execution_count": null,
   "metadata": {},
   "outputs": [],
   "source": []
  },
  {
   "cell_type": "code",
   "execution_count": null,
   "metadata": {},
   "outputs": [],
   "source": []
  },
  {
   "cell_type": "code",
   "execution_count": null,
   "metadata": {},
   "outputs": [],
   "source": []
  },
  {
   "cell_type": "code",
   "execution_count": null,
   "metadata": {},
   "outputs": [],
   "source": []
  },
  {
   "cell_type": "code",
   "execution_count": null,
   "metadata": {},
   "outputs": [],
   "source": []
  }
 ],
 "metadata": {
  "kernelspec": {
   "display_name": "Python 3",
   "language": "python",
   "name": "python3"
  },
  "language_info": {
   "codemirror_mode": {
    "name": "ipython",
    "version": 3
   },
   "file_extension": ".py",
   "mimetype": "text/x-python",
   "name": "python",
   "nbconvert_exporter": "python",
   "pygments_lexer": "ipython3",
   "version": "3.6.4"
  }
 },
 "nbformat": 4,
 "nbformat_minor": 2
}
