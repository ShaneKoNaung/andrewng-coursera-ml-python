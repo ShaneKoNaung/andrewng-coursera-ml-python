{
 "cells": [
  {
   "cell_type": "markdown",
   "metadata": {},
   "source": [
    "## Loading and Visualizing Data"
   ]
  },
  {
   "cell_type": "code",
   "execution_count": 1,
   "metadata": {},
   "outputs": [],
   "source": [
    "import numpy as np\n",
    "import scipy.optimize\n",
    "import pandas as pd\n",
    "import matplotlib.pyplot as plt\n",
    "from scipy.io import loadmat"
   ]
  },
  {
   "cell_type": "code",
   "execution_count": 2,
   "metadata": {},
   "outputs": [
    {
     "name": "stdout",
     "output_type": "stream",
     "text": [
      "Loading and Visualizing Data ... \n",
      "\n",
      "X : (51, 2)\n",
      "X : \n",
      "[[1.9643 4.5957]\n",
      " [2.2753 3.8589]\n",
      " [2.9781 4.5651]\n",
      " [2.932  3.5519]\n",
      " [3.5772 2.856 ]\n",
      " [4.015  3.1937]\n",
      " [3.3814 3.4291]\n",
      " [3.9113 4.1761]\n",
      " [2.7822 4.0431]\n",
      " [2.5518 4.6162]]\n",
      "\n",
      "y : (51, 1)\n",
      "y : \n",
      "[[1]\n",
      " [1]\n",
      " [1]\n",
      " [1]\n",
      " [1]\n",
      " [1]\n",
      " [1]\n",
      " [1]\n",
      " [1]\n",
      " [1]]\n"
     ]
    }
   ],
   "source": [
    "print(\"Loading and Visualizing Data ... \\n\")\n",
    "\n",
    "data = loadmat('ex6data1.mat')\n",
    "\n",
    "X = data['X']\n",
    "y = data['y']\n",
    "\n",
    "print(f'X : {X.shape}')\n",
    "print(f'X : \\n{X[:10,:]}\\n')\n",
    "print(f'y : {y.shape}')\n",
    "print(f'y : \\n{y[:10]}')\n"
   ]
  },
  {
   "cell_type": "code",
   "execution_count": 5,
   "metadata": {},
   "outputs": [
    {
     "data": {
      "image/png": "[encoded data removed]",
      "text/plain": [
       "<Figure size 432x288 with 1 Axes>"
      ]
     },
     "metadata": {},
     "output_type": "display_data"
    }
   ],
   "source": [
    "def plotData(X, y):\n",
    "\n",
    "    pos = [i for i, _ in enumerate(y) if _ == 1]  # positive samples indices\n",
    "    neg = [i for i, _ in enumerate(y) if _ == 0]  # negative samples indices\n",
    "    \n",
    "    plt.scatter(X[pos,0], X[pos,1], edgecolors='r', c='w')\n",
    "    plt.scatter(X[neg,0], X[neg,1], edgecolors='b', c='w')\n",
    "\n",
    "plotData(X, y)   "
   ]
  },
  {
   "cell_type": "code",
   "execution_count": null,
   "metadata": {},
   "outputs": [],
   "source": []
  },
  {
   "cell_type": "code",
   "execution_count": null,
   "metadata": {},
   "outputs": [],
   "source": []
  },
  {
   "cell_type": "code",
   "execution_count": null,
   "metadata": {},
   "outputs": [],
   "source": []
  },
  {
   "cell_type": "code",
   "execution_count": null,
   "metadata": {},
   "outputs": [],
   "source": []
  },
  {
   "cell_type": "code",
   "execution_count": null,
   "metadata": {},
   "outputs": [],
   "source": []
  },
  {
   "cell_type": "code",
   "execution_count": null,
   "metadata": {},
   "outputs": [],
   "source": []
  },
  {
   "cell_type": "code",
   "execution_count": null,
   "metadata": {},
   "outputs": [],
   "source": []
  }
 ],
 "metadata": {
  "kernelspec": {
   "display_name": "Python 3",
   "language": "python",
   "name": "python3"
  },
  "language_info": {
   "codemirror_mode": {
    "name": "ipython",
    "version": 3
   },
   "file_extension": ".py",
   "mimetype": "text/x-python",
   "name": "python",
   "nbconvert_exporter": "python",
   "pygments_lexer": "ipython3",
   "version": "3.6.4"
  }
 },
 "nbformat": 4,
 "nbformat_minor": 2
}
