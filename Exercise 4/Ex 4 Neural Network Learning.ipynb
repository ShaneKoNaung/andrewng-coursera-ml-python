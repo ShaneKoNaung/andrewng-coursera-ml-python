{
 "cells": [
  {
   "cell_type": "code",
   "execution_count": 1,
   "metadata": {},
   "outputs": [],
   "source": [
    "import numpy as np\n",
    "import pandas as pd\n",
    "import matplotlib.pyplot as plt\n",
    "\n",
    "from scipy.optimize import minimize\n",
    "from scipy.io import loadmat"
   ]
  },
  {
   "cell_type": "code",
   "execution_count": 2,
   "metadata": {},
   "outputs": [
    {
     "name": "stdout",
     "output_type": "stream",
     "text": [
      "Training images : (5000, 400)\n",
      "Training labels : (5000,)\n"
     ]
    }
   ],
   "source": [
    "data = loadmat('ex4data1.mat')\n",
    "X = data['X']\n",
    "y = data['y'].ravel()\n",
    "\n",
    "m = len(y)\n",
    "\n",
    "print(f'Training images : {X.shape}')\n",
    "print(f'Training labels : {y.shape}')"
   ]
  },
  {
   "cell_type": "code",
   "execution_count": 12,
   "metadata": {},
   "outputs": [
    {
     "name": "stdout",
     "output_type": "stream",
     "text": [
      "Theta1 : (25, 401)\n",
      "Theta2 : (10, 26)\n",
      "(10285,)\n"
     ]
    }
   ],
   "source": [
    "input_layer_size = 400\n",
    "hidden_layer_size = 25\n",
    "num_labels = 10\n",
    "\n",
    "weights = loadmat('ex4weights.mat')\n",
    "Theta1, Theta2 = weights['Theta1'], weights['Theta2']\n",
    "\n",
    "print(f'Theta1 : {Theta1.shape}')\n",
    "print(f'Theta2 : {Theta2.shape}')\n",
    "\n",
    "nn_params = np.concatenate([Theta1.ravel(), Theta2.ravel()])\n",
    "print(a.shape)"
   ]
  },
  {
   "cell_type": "markdown",
   "metadata": {},
   "source": [
    "### Compute Cost (Feedforward)"
   ]
  },
  {
   "cell_type": "code",
   "execution_count": 21,
   "metadata": {},
   "outputs": [],
   "source": [
    "def sigmoid(z):\n",
    "    return 1/(1 + np.exp(-z))"
   ]
  },
  {
   "cell_type": "code",
   "execution_count": 52,
   "metadata": {},
   "outputs": [],
   "source": [
    "def nnCostFunction(nn_params, input_layer_size, hidden_layer_size, num_labels, X, y, lmbda):\n",
    "    \n",
    "    # Reshape nn_params back into the parameters Theta1 and Theta2, the weight matrices\n",
    "    # for our 2 layer neural network\n",
    "    Theta1 = np.reshape(nn_params[:hidden_layer_size * (input_layer_size + 1)],\n",
    "                        (hidden_layer_size, (input_layer_size + 1)))\n",
    "\n",
    "    Theta2 = np.reshape(nn_params[(hidden_layer_size * (input_layer_size + 1)):],\n",
    "                        (num_labels, (hidden_layer_size + 1)))\n",
    "    \n",
    "    m = len(y)\n",
    "    \n",
    "    A1 = np.append(np.ones((len(X),1)), X, axis=1)\n",
    "    Z2 = A1.dot(Theta1.T)\n",
    "    \n",
    "    A2 = sigmoid(Z2)\n",
    "    A2 = np.append(np.ones((len(A2),1)), A2, axis=1)\n",
    "    \n",
    "    Z3 = A2.dot(Theta2.T)\n",
    "    A3 = sigmoid(Z3)\n",
    "    \n",
    "    J = 0\n",
    "    \n",
    "    # convert y into len(y) x num_labels matrix\n",
    "    new_y = np.zeros((len(y), num_labels))\n",
    "    \n",
    "    for i in range(m):\n",
    "        new_y[i][y[i] - 1] = 1   # new_y would have [0 to 9] instead of y [1 to 10]\n",
    "    \n",
    "    inner_sum  =0\n",
    "    \n",
    "    for i in range(num_labels):\n",
    "        inner_sum += - (new_y[:,i].T.dot(np.log(A3[:,i])) + (1 - new_y[:,i]).T.dot(np.log(1 - A3[:,i])))\n",
    "    \n",
    "    J = (1/m)  * inner_sum\n",
    "    \n",
    "    # cost function with regularization\n",
    "\n",
    "    J +=  (lmbda/(2 * m)) * (np.sum(np.sum((Theta1[:,1:] ** 2), axis=1)) + np.sum(np.sum((Theta2[:,1:] ** 2), axis=1)))\n",
    "\n",
    "    return J"
   ]
  },
  {
   "cell_type": "markdown",
   "metadata": {},
   "source": [
    "#### Cost function without regularization"
   ]
  },
  {
   "cell_type": "code",
   "execution_count": 53,
   "metadata": {},
   "outputs": [
    {
     "name": "stdout",
     "output_type": "stream",
     "text": [
      "Feedforward Using Neural Networks ... \n",
      "\n",
      "Cost at parameters (loaded from ex4weights): 0.287629165161319 \n",
      "(this value should be about 0.287629)\n",
      "\n"
     ]
    }
   ],
   "source": [
    "print('Feedforward Using Neural Networks ... \\n')\n",
    "\n",
    "lmbda = 0\n",
    "\n",
    "J = nnCostFunction(nn_params, input_layer_size, hidden_layer_size, num_labels, X, y, lmbda)\n",
    "\n",
    "print(f'Cost at parameters (loaded from ex4weights): {J} \\n(this value should be about 0.287629)\\n');"
   ]
  },
  {
   "cell_type": "markdown",
   "metadata": {},
   "source": [
    "#### Cost function with regularization"
   ]
  },
  {
   "cell_type": "code",
   "execution_count": 54,
   "metadata": {},
   "outputs": [
    {
     "name": "stdout",
     "output_type": "stream",
     "text": [
      "\n",
      "Checking Cost Function (w/ Regularization) ... \n",
      "\n",
      "Cost at parameters (loaded from ex4weights): 0.38376985909092376 \n",
      "(this value should be about 0.383770)\n",
      "\n"
     ]
    }
   ],
   "source": [
    "print('\\nChecking Cost Function (w/ Regularization) ... \\n')\n",
    "\n",
    "# Weight regularization parameter (we set this to 1 here).\n",
    "lmbda = 1\n",
    "\n",
    "J = nnCostFunction(nn_params, input_layer_size, hidden_layer_size, num_labels, X, y, lmbda)\n",
    "\n",
    "print(f'Cost at parameters (loaded from ex4weights): {J} \\n(this value should be about 0.383770)\\n')\n"
   ]
  },
  {
   "cell_type": "markdown",
   "metadata": {},
   "source": [
    "#### Sigmoid Gradient"
   ]
  },
  {
   "cell_type": "code",
   "execution_count": null,
   "metadata": {},
   "outputs": [],
   "source": [
    "def sigmoidGradient(z):\n",
    "    return sigmoid(z) * (1 - sigmoid(z))"
   ]
  },
  {
   "cell_type": "code",
   "execution_count": null,
   "metadata": {},
   "outputs": [],
   "source": [
    "fprintf('\\nEvaluating sigmoid gradient...\\n')\n",
    "\n",
    "g = sigmoidGradient(np.array[-1 -0.5 0 0.5 1]);\n",
    "fprintf('Sigmoid gradient evaluated at [-1 -0.5 0 0.5 1]:\\n  ');\n",
    "fprintf('%f ', g);"
   ]
  }
 ],
 "metadata": {
  "kernelspec": {
   "display_name": "Python 3",
   "language": "python",
   "name": "python3"
  },
  "language_info": {
   "codemirror_mode": {
    "name": "ipython",
    "version": 3
   },
   "file_extension": ".py",
   "mimetype": "text/x-python",
   "name": "python",
   "nbconvert_exporter": "python",
   "pygments_lexer": "ipython3",
   "version": "3.6.4"
  }
 },
 "nbformat": 4,
 "nbformat_minor": 2
}
